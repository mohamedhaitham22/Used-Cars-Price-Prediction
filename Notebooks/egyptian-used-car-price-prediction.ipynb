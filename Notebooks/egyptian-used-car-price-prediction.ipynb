{
 "cells": [
  {
   "cell_type": "code",
   "execution_count": 1,
   "id": "2dd6b54f",
   "metadata": {
    "_cell_guid": "b1076dfc-b9ad-4769-8c92-a6c4dae69d19",
    "_uuid": "8f2839f25d086af736a60e9eeb907d3b93b6e0e5",
    "execution": {
     "iopub.execute_input": "2025-05-05T14:28:39.330980Z",
     "iopub.status.busy": "2025-05-05T14:28:39.330084Z",
     "iopub.status.idle": "2025-05-05T14:28:42.174416Z",
     "shell.execute_reply": "2025-05-05T14:28:42.173201Z"
    },
    "papermill": {
     "duration": 2.855698,
     "end_time": "2025-05-05T14:28:42.176796",
     "exception": false,
     "start_time": "2025-05-05T14:28:39.321098",
     "status": "completed"
    },
    "tags": []
   },
   "outputs": [],
   "source": [
    "import numpy as np \n",
    "import pandas as pd\n",
    "import matplotlib.pyplot as plt\n",
    "import seaborn as sns\n",
    "import plotly.graph_objects as go\n",
    "\n",
    "from sklearn.model_selection import train_test_split\n",
    "from sklearn.metrics import mean_absolute_error, r2_score\n",
    "from sklearn.preprocessing import LabelEncoder\n",
    "#from sklearn.ensemble import RandomForestRegressor\n",
    "from xgboost import XGBRegressor\n",
    "from sklearn.preprocessing import StandardScaler\n",
    "from joblib import load\n",
    "#from sklearn.ensemble import GradientBoostingRegressor\n",
    "#from sklearn.linear_model import BayesianRidge\n",
    "#from sklearn.linear_model import LinearRegression"
   ]
  },
  {
   "cell_type": "code",
   "execution_count": 2,
   "id": "67add5a7",
   "metadata": {
    "execution": {
     "iopub.execute_input": "2025-05-05T14:28:42.193414Z",
     "iopub.status.busy": "2025-05-05T14:28:42.192855Z",
     "iopub.status.idle": "2025-05-05T14:28:42.595788Z",
     "shell.execute_reply": "2025-05-05T14:28:42.594737Z"
    },
    "papermill": {
     "duration": 0.413536,
     "end_time": "2025-05-05T14:28:42.598274",
     "exception": false,
     "start_time": "2025-05-05T14:28:42.184738",
     "status": "completed"
    },
    "tags": []
   },
   "outputs": [],
   "source": [
    "df = pd.read_csv(\"/kaggle/input/used-cars-for-sale-in-egypt/hatla2ee_scraped_data.csv\")"
   ]
  },
  {
   "cell_type": "code",
   "execution_count": 3,
   "id": "7ef00fca",
   "metadata": {
    "execution": {
     "iopub.execute_input": "2025-05-05T14:28:42.614359Z",
     "iopub.status.busy": "2025-05-05T14:28:42.613958Z",
     "iopub.status.idle": "2025-05-05T14:28:42.638451Z",
     "shell.execute_reply": "2025-05-05T14:28:42.637430Z"
    },
    "papermill": {
     "duration": 0.034687,
     "end_time": "2025-05-05T14:28:42.640452",
     "exception": false,
     "start_time": "2025-05-05T14:28:42.605765",
     "status": "completed"
    },
    "tags": []
   },
   "outputs": [
    {
     "data": {
      "text/html": [
       "<div>\n",
       "<style scoped>\n",
       "    .dataframe tbody tr th:only-of-type {\n",
       "        vertical-align: middle;\n",
       "    }\n",
       "\n",
       "    .dataframe tbody tr th {\n",
       "        vertical-align: top;\n",
       "    }\n",
       "\n",
       "    .dataframe thead th {\n",
       "        text-align: right;\n",
       "    }\n",
       "</style>\n",
       "<table border=\"1\" class=\"dataframe\">\n",
       "  <thead>\n",
       "    <tr style=\"text-align: right;\">\n",
       "      <th></th>\n",
       "      <th>Name</th>\n",
       "      <th>Price</th>\n",
       "      <th>Color</th>\n",
       "      <th>Mileage</th>\n",
       "      <th>Make</th>\n",
       "      <th>Model</th>\n",
       "      <th>City</th>\n",
       "      <th>Date Displayed</th>\n",
       "      <th>Automatic Transmission</th>\n",
       "      <th>Air Conditioner</th>\n",
       "      <th>Power Steering</th>\n",
       "      <th>Remote Control</th>\n",
       "      <th>Item URL</th>\n",
       "    </tr>\n",
       "  </thead>\n",
       "  <tbody>\n",
       "    <tr>\n",
       "      <th>0</th>\n",
       "      <td>Kia Sportage 2024</td>\n",
       "      <td>2,800,000 EGP</td>\n",
       "      <td>Dark grey</td>\n",
       "      <td>300 Km</td>\n",
       "      <td>Kia</td>\n",
       "      <td>Sportage</td>\n",
       "      <td>Tagamo3 - New Cairo</td>\n",
       "      <td>2024-02-16</td>\n",
       "      <td>Yes</td>\n",
       "      <td>Yes</td>\n",
       "      <td>Yes</td>\n",
       "      <td>Yes</td>\n",
       "      <td>https://eg.hatla2ee.com/en/car/kia/sportage/62...</td>\n",
       "    </tr>\n",
       "    <tr>\n",
       "      <th>1</th>\n",
       "      <td>Chery Arrizo 5 2022</td>\n",
       "      <td>NaN</td>\n",
       "      <td>Bronze</td>\n",
       "      <td>86,000 Km</td>\n",
       "      <td>Chery</td>\n",
       "      <td>Arrizo 5</td>\n",
       "      <td>Nasr city</td>\n",
       "      <td>2024-02-16</td>\n",
       "      <td>Yes</td>\n",
       "      <td>Yes</td>\n",
       "      <td>Yes</td>\n",
       "      <td>Yes</td>\n",
       "      <td>https://eg.hatla2ee.com/en/car/chery/Arrizo-5/...</td>\n",
       "    </tr>\n",
       "    <tr>\n",
       "      <th>2</th>\n",
       "      <td>Fiat Tipo 2021</td>\n",
       "      <td>1,200,000 EGP</td>\n",
       "      <td>Petroleum</td>\n",
       "      <td>131,000 Km</td>\n",
       "      <td>Fiat</td>\n",
       "      <td>Tipo</td>\n",
       "      <td>Kafr el-Dawwar</td>\n",
       "      <td>2024-02-16</td>\n",
       "      <td>Yes</td>\n",
       "      <td>Yes</td>\n",
       "      <td>Yes</td>\n",
       "      <td>Yes</td>\n",
       "      <td>https://eg.hatla2ee.com/en/car/fiat/tipo/6286701</td>\n",
       "    </tr>\n",
       "    <tr>\n",
       "      <th>3</th>\n",
       "      <td>Hyundai Tucson Turbo GDI 2021</td>\n",
       "      <td>2,050,000 EGP</td>\n",
       "      <td>Black</td>\n",
       "      <td>125,000 Km</td>\n",
       "      <td>Hyundai</td>\n",
       "      <td>Tucson Turbo GDI</td>\n",
       "      <td>Nasr city</td>\n",
       "      <td>2024-02-16</td>\n",
       "      <td>Yes</td>\n",
       "      <td>Yes</td>\n",
       "      <td>Yes</td>\n",
       "      <td>Yes</td>\n",
       "      <td>https://eg.hatla2ee.com/en/car/hyundai/Tucson-...</td>\n",
       "    </tr>\n",
       "    <tr>\n",
       "      <th>4</th>\n",
       "      <td>BMW X1 2018</td>\n",
       "      <td>2,050,000 EGP</td>\n",
       "      <td>Gray</td>\n",
       "      <td>84,000 Km</td>\n",
       "      <td>BMW</td>\n",
       "      <td>X1</td>\n",
       "      <td>Cairo</td>\n",
       "      <td>2024-02-16</td>\n",
       "      <td>Yes</td>\n",
       "      <td>Yes</td>\n",
       "      <td>Yes</td>\n",
       "      <td>Yes</td>\n",
       "      <td>https://eg.hatla2ee.com/en/car/bmw/x1/6254123</td>\n",
       "    </tr>\n",
       "  </tbody>\n",
       "</table>\n",
       "</div>"
      ],
      "text/plain": [
       "                            Name          Price      Color     Mileage  \\\n",
       "0              Kia Sportage 2024  2,800,000 EGP  Dark grey      300 Km   \n",
       "1            Chery Arrizo 5 2022            NaN     Bronze   86,000 Km   \n",
       "2                 Fiat Tipo 2021  1,200,000 EGP  Petroleum  131,000 Km   \n",
       "3  Hyundai Tucson Turbo GDI 2021  2,050,000 EGP      Black  125,000 Km   \n",
       "4                    BMW X1 2018  2,050,000 EGP       Gray   84,000 Km   \n",
       "\n",
       "      Make             Model                 City Date Displayed  \\\n",
       "0      Kia          Sportage  Tagamo3 - New Cairo     2024-02-16   \n",
       "1    Chery          Arrizo 5            Nasr city     2024-02-16   \n",
       "2     Fiat              Tipo       Kafr el-Dawwar     2024-02-16   \n",
       "3  Hyundai  Tucson Turbo GDI            Nasr city     2024-02-16   \n",
       "4      BMW                X1                Cairo     2024-02-16   \n",
       "\n",
       "  Automatic Transmission Air Conditioner Power Steering Remote Control  \\\n",
       "0                    Yes             Yes            Yes            Yes   \n",
       "1                    Yes             Yes            Yes            Yes   \n",
       "2                    Yes             Yes            Yes            Yes   \n",
       "3                    Yes             Yes            Yes            Yes   \n",
       "4                    Yes             Yes            Yes            Yes   \n",
       "\n",
       "                                            Item URL  \n",
       "0  https://eg.hatla2ee.com/en/car/kia/sportage/62...  \n",
       "1  https://eg.hatla2ee.com/en/car/chery/Arrizo-5/...  \n",
       "2   https://eg.hatla2ee.com/en/car/fiat/tipo/6286701  \n",
       "3  https://eg.hatla2ee.com/en/car/hyundai/Tucson-...  \n",
       "4      https://eg.hatla2ee.com/en/car/bmw/x1/6254123  "
      ]
     },
     "execution_count": 3,
     "metadata": {},
     "output_type": "execute_result"
    }
   ],
   "source": [
    "df.head()"
   ]
  },
  {
   "cell_type": "code",
   "execution_count": 4,
   "id": "fca780ef",
   "metadata": {
    "execution": {
     "iopub.execute_input": "2025-05-05T14:28:42.656710Z",
     "iopub.status.busy": "2025-05-05T14:28:42.656006Z",
     "iopub.status.idle": "2025-05-05T14:28:42.699595Z",
     "shell.execute_reply": "2025-05-05T14:28:42.698350Z"
    },
    "papermill": {
     "duration": 0.05418,
     "end_time": "2025-05-05T14:28:42.701773",
     "exception": false,
     "start_time": "2025-05-05T14:28:42.647593",
     "status": "completed"
    },
    "tags": []
   },
   "outputs": [
    {
     "name": "stdout",
     "output_type": "stream",
     "text": [
      "<class 'pandas.core.frame.DataFrame'>\n",
      "RangeIndex: 33559 entries, 0 to 33558\n",
      "Data columns (total 13 columns):\n",
      " #   Column                  Non-Null Count  Dtype \n",
      "---  ------                  --------------  ----- \n",
      " 0   Name                    33559 non-null  object\n",
      " 1   Price                   32625 non-null  object\n",
      " 2   Color                   33559 non-null  object\n",
      " 3   Mileage                 31440 non-null  object\n",
      " 4   Make                    33559 non-null  object\n",
      " 5   Model                   33559 non-null  object\n",
      " 6   City                    33559 non-null  object\n",
      " 7   Date Displayed          33559 non-null  object\n",
      " 8   Automatic Transmission  33559 non-null  object\n",
      " 9   Air Conditioner         33559 non-null  object\n",
      " 10  Power Steering          33559 non-null  object\n",
      " 11  Remote Control          33559 non-null  object\n",
      " 12  Item URL                33559 non-null  object\n",
      "dtypes: object(13)\n",
      "memory usage: 3.3+ MB\n"
     ]
    }
   ],
   "source": [
    "df.info()"
   ]
  },
  {
   "cell_type": "code",
   "execution_count": 5,
   "id": "87d2f66a",
   "metadata": {
    "execution": {
     "iopub.execute_input": "2025-05-05T14:28:42.722612Z",
     "iopub.status.busy": "2025-05-05T14:28:42.721351Z",
     "iopub.status.idle": "2025-05-05T14:28:42.763065Z",
     "shell.execute_reply": "2025-05-05T14:28:42.761632Z"
    },
    "papermill": {
     "duration": 0.054944,
     "end_time": "2025-05-05T14:28:42.765113",
     "exception": false,
     "start_time": "2025-05-05T14:28:42.710169",
     "status": "completed"
    },
    "tags": []
   },
   "outputs": [
    {
     "data": {
      "text/plain": [
       "Name                         0\n",
       "Price                      934\n",
       "Color                        0\n",
       "Mileage                   2119\n",
       "Make                         0\n",
       "Model                        0\n",
       "City                         0\n",
       "Date Displayed               0\n",
       "Automatic Transmission       0\n",
       "Air Conditioner              0\n",
       "Power Steering               0\n",
       "Remote Control               0\n",
       "Item URL                     0\n",
       "dtype: int64"
      ]
     },
     "execution_count": 5,
     "metadata": {},
     "output_type": "execute_result"
    }
   ],
   "source": [
    "df.isna().sum()"
   ]
  },
  {
   "cell_type": "code",
   "execution_count": 6,
   "id": "0a1dde3d",
   "metadata": {
    "execution": {
     "iopub.execute_input": "2025-05-05T14:28:42.784870Z",
     "iopub.status.busy": "2025-05-05T14:28:42.783978Z",
     "iopub.status.idle": "2025-05-05T14:28:42.790385Z",
     "shell.execute_reply": "2025-05-05T14:28:42.789409Z"
    },
    "papermill": {
     "duration": 0.016686,
     "end_time": "2025-05-05T14:28:42.792197",
     "exception": false,
     "start_time": "2025-05-05T14:28:42.775511",
     "status": "completed"
    },
    "tags": []
   },
   "outputs": [
    {
     "data": {
      "text/plain": [
       "(33559, 13)"
      ]
     },
     "execution_count": 6,
     "metadata": {},
     "output_type": "execute_result"
    }
   ],
   "source": [
    "df.shape"
   ]
  },
  {
   "cell_type": "code",
   "execution_count": 7,
   "id": "7512a142",
   "metadata": {
    "execution": {
     "iopub.execute_input": "2025-05-05T14:28:42.808060Z",
     "iopub.status.busy": "2025-05-05T14:28:42.807700Z",
     "iopub.status.idle": "2025-05-05T14:28:42.845984Z",
     "shell.execute_reply": "2025-05-05T14:28:42.844594Z"
    },
    "papermill": {
     "duration": 0.049068,
     "end_time": "2025-05-05T14:28:42.848737",
     "exception": false,
     "start_time": "2025-05-05T14:28:42.799669",
     "status": "completed"
    },
    "tags": []
   },
   "outputs": [],
   "source": [
    "df.dropna(inplace=True)"
   ]
  },
  {
   "cell_type": "code",
   "execution_count": 8,
   "id": "47654ed3",
   "metadata": {
    "execution": {
     "iopub.execute_input": "2025-05-05T14:28:42.869964Z",
     "iopub.status.busy": "2025-05-05T14:28:42.869443Z",
     "iopub.status.idle": "2025-05-05T14:28:42.877728Z",
     "shell.execute_reply": "2025-05-05T14:28:42.876657Z"
    },
    "papermill": {
     "duration": 0.022876,
     "end_time": "2025-05-05T14:28:42.880081",
     "exception": false,
     "start_time": "2025-05-05T14:28:42.857205",
     "status": "completed"
    },
    "tags": []
   },
   "outputs": [
    {
     "data": {
      "text/plain": [
       "(31095, 13)"
      ]
     },
     "execution_count": 8,
     "metadata": {},
     "output_type": "execute_result"
    }
   ],
   "source": [
    "df.shape"
   ]
  },
  {
   "cell_type": "markdown",
   "id": "e2819a94",
   "metadata": {
    "papermill": {
     "duration": 0.008729,
     "end_time": "2025-05-05T14:28:42.899668",
     "exception": false,
     "start_time": "2025-05-05T14:28:42.890939",
     "status": "completed"
    },
    "tags": []
   },
   "source": [
    "# EDA"
   ]
  },
  {
   "cell_type": "code",
   "execution_count": 9,
   "id": "57746d4a",
   "metadata": {
    "execution": {
     "iopub.execute_input": "2025-05-05T14:28:42.923068Z",
     "iopub.status.busy": "2025-05-05T14:28:42.922695Z",
     "iopub.status.idle": "2025-05-05T14:28:42.935104Z",
     "shell.execute_reply": "2025-05-05T14:28:42.934168Z"
    },
    "papermill": {
     "duration": 0.026461,
     "end_time": "2025-05-05T14:28:42.937055",
     "exception": false,
     "start_time": "2025-05-05T14:28:42.910594",
     "status": "completed"
    },
    "tags": []
   },
   "outputs": [
    {
     "data": {
      "text/plain": [
       "Name\n",
       "Nissan Sunny 2022           644\n",
       "Fiat Tipo 2021              416\n",
       "Nissan Sunny 2020           393\n",
       "MG 5 2022                   344\n",
       "Renault Megane 2020         343\n",
       "                           ... \n",
       "Haval H6 2024                 1\n",
       "Toyota Camry 1994             1\n",
       "Chery Tiggo 2023              1\n",
       "Hyundai Elantra CN7 2024      1\n",
       "Volkswagen Golf 2 1984        1\n",
       "Name: count, Length: 3889, dtype: int64"
      ]
     },
     "execution_count": 9,
     "metadata": {},
     "output_type": "execute_result"
    }
   ],
   "source": [
    "df[\"Name\"].value_counts()"
   ]
  },
  {
   "cell_type": "code",
   "execution_count": 10,
   "id": "81ee3302",
   "metadata": {
    "execution": {
     "iopub.execute_input": "2025-05-05T14:28:42.953727Z",
     "iopub.status.busy": "2025-05-05T14:28:42.952929Z",
     "iopub.status.idle": "2025-05-05T14:28:42.963351Z",
     "shell.execute_reply": "2025-05-05T14:28:42.962321Z"
    },
    "papermill": {
     "duration": 0.02061,
     "end_time": "2025-05-05T14:28:42.965169",
     "exception": false,
     "start_time": "2025-05-05T14:28:42.944559",
     "status": "completed"
    },
    "tags": []
   },
   "outputs": [
    {
     "data": {
      "text/plain": [
       "Model\n",
       "Sunny          1847\n",
       "Corolla        1494\n",
       "Verna          1066\n",
       "Optra           952\n",
       "Tipo            890\n",
       "               ... \n",
       "CLA AMG           1\n",
       "M70               1\n",
       "CL Class          1\n",
       "Fox               1\n",
       "Duster Nova       1\n",
       "Name: count, Length: 851, dtype: int64"
      ]
     },
     "execution_count": 10,
     "metadata": {},
     "output_type": "execute_result"
    }
   ],
   "source": [
    "df[\"Model\"].value_counts()"
   ]
  },
  {
   "cell_type": "code",
   "execution_count": 11,
   "id": "38a87b01",
   "metadata": {
    "execution": {
     "iopub.execute_input": "2025-05-05T14:28:42.981894Z",
     "iopub.status.busy": "2025-05-05T14:28:42.980845Z",
     "iopub.status.idle": "2025-05-05T14:28:43.268438Z",
     "shell.execute_reply": "2025-05-05T14:28:43.267324Z"
    },
    "papermill": {
     "duration": 0.298085,
     "end_time": "2025-05-05T14:28:43.270630",
     "exception": false,
     "start_time": "2025-05-05T14:28:42.972545",
     "status": "completed"
    },
    "tags": []
   },
   "outputs": [
    {
     "data": {
      "image/png": "[encoded data removed]",
      "text/plain": [
       "<Figure size 700x500 with 1 Axes>"
      ]
     },
     "metadata": {},
     "output_type": "display_data"
    }
   ],
   "source": [
    "plt.figure(figsize=(7, 5))\n",
    "df.groupby('Model').size().nlargest(10).sort_values().plot.barh(color='skyblue')\n",
    "plt.title(\"Top 10 Models\")\n",
    "plt.xlabel(\"Count\")\n",
    "plt.ylabel(\"Model\")\n",
    "plt.show()\n"
   ]
  },
  {
   "cell_type": "code",
   "execution_count": 12,
   "id": "56dc2624",
   "metadata": {
    "execution": {
     "iopub.execute_input": "2025-05-05T14:28:43.288261Z",
     "iopub.status.busy": "2025-05-05T14:28:43.287461Z",
     "iopub.status.idle": "2025-05-05T14:28:43.556440Z",
     "shell.execute_reply": "2025-05-05T14:28:43.555278Z"
    },
    "papermill": {
     "duration": 0.280236,
     "end_time": "2025-05-05T14:28:43.558811",
     "exception": false,
     "start_time": "2025-05-05T14:28:43.278575",
     "status": "completed"
    },
    "tags": []
   },
   "outputs": [
    {
     "data": {
      "image/png": "[encoded data removed]",
      "text/plain": [
       "<Figure size 700x500 with 1 Axes>"
      ]
     },
     "metadata": {},
     "output_type": "display_data"
    }
   ],
   "source": [
    "plt.figure(figsize=(7, 5))\n",
    "df.groupby('Make').size().nlargest(10).sort_values().plot.barh(color='skyblue')\n",
    "plt.title(\"Top 10 Car Makers\")\n",
    "plt.xlabel(\"Count\")\n",
    "plt.ylabel(\"Model\")\n",
    "plt.show()\n"
   ]
  },
  {
   "cell_type": "code",
   "execution_count": 13,
   "id": "9a7c810a",
   "metadata": {
    "execution": {
     "iopub.execute_input": "2025-05-05T14:28:43.578392Z",
     "iopub.status.busy": "2025-05-05T14:28:43.577972Z",
     "iopub.status.idle": "2025-05-05T14:28:43.591773Z",
     "shell.execute_reply": "2025-05-05T14:28:43.590831Z"
    },
    "papermill": {
     "duration": 0.026461,
     "end_time": "2025-05-05T14:28:43.594359",
     "exception": false,
     "start_time": "2025-05-05T14:28:43.567898",
     "status": "completed"
    },
    "tags": []
   },
   "outputs": [
    {
     "name": "stdout",
     "output_type": "stream",
     "text": [
      "Unique values in 'Color': ['Dark grey' 'Petroleum' 'Black' 'Gray' 'Blue' 'Silver' 'Brown' 'Red'\n",
      " 'White' 'Dark blue' 'Mocha' 'Bronze' 'Gold' 'Green' 'Dark red' 'Eggplant'\n",
      " 'Cyan' 'Champagne' 'Yellow' 'Dark green' 'Purple' 'Olive' 'Orange'\n",
      " 'Beige']\n",
      "Unique values in 'Make': ['Kia' 'Fiat' 'Hyundai' 'BMW' 'Chevrolet' 'Chery' 'Ford' 'Nissan'\n",
      " 'Mitsubishi' 'Opel' 'Toyota' 'Jac' 'MG' 'Skoda' 'Daewoo' 'Changan'\n",
      " 'Mercedes' 'Jeep' 'Daihatsu' 'Lada' 'Citroën' 'Byd' 'Renault' 'Seat'\n",
      " 'Zotye' 'Suzuki' 'Volkswagen' 'Speranza' 'Senova' 'Brilliance' 'Peugeot'\n",
      " 'Isuzu' 'Geely' 'Saipa' 'Canghe' 'Audi' 'Jetour' 'Mazda' 'Proton' 'Honda'\n",
      " 'Emgrand' 'Volvo' 'Lifan' 'DFSK' 'Haval' 'Ssang Yong' 'Porsche' 'Mini'\n",
      " 'Faw' 'Subaru' 'Forthing' 'Maserati' 'Baic' 'Dodge' 'Ds' 'Haima'\n",
      " 'Land Rover' 'Chrysler' 'Cupra' 'Kenbo' 'Aston Martin' 'Jaguar' 'Kaiyi'\n",
      " 'Mahindra' 'Dongfeng' 'Alfa Romeo' 'Lincoln' 'Bentley' 'Bestune' 'Gmc'\n",
      " 'Acura' 'Hawtai' 'Foton' 'Tesla' 'Tata' 'Karry' 'Chana' 'Soueast'\n",
      " 'Infiniti' 'Gaz' 'Hummer' 'Great Wall' 'Zeekr' 'Jonway' 'Datsun' 'Lexus'\n",
      " 'Hafei' 'Sokon' 'Lotus' 'Abarth' 'Keyton' 'Smart' 'Buick' 'Cadillac'\n",
      " 'Domy' 'GAC' 'Bugatti' 'Landwind' 'Perodua']\n",
      "Unique values in 'Model': ['Sportage' 'Tipo' 'Tucson Turbo GDI' 'X1' 'Optra' 'Arrizo 5' 'Verna'\n",
      " 'Focus' 'Tiida' 'Lancer Puma' 'Grandland' 'Sunny' 'Uno' 'Spectra'\n",
      " 'Corolla' 'J3' '5' 'Octavia A4' 'Nubira 2' 'Sephia' 'Benni' 'Astra'\n",
      " 'Tiggo 3' 'E 250' 'Forte' 'Liberty' 'Grand terios' '1500' 'C4 Picasso'\n",
      " 'F3' 'Logan' 'Cerato' 'Renegade' 'E 200' 'ZS' 'C 200' 'Punto' '128'\n",
      " 'Ibiza' 'Lancer EX Shark' 'Cherokee' 'Tiggo 7' 'Lacetti' 'T600' '5008'\n",
      " 'Fluence' 'Avante' 'Ciaz' 'Kadjar' 'Golf' 'A620' '500C' 'C 180'\n",
      " 'Elantra AD' 'A113' 'A1' 'JS4' 'FRV Cross' '301' 'X 30' 'Octavia A8' '6'\n",
      " '405' '200' 'Lancer' 'D max' 'Emgrand X7' 'Pride' 'Accent RB' 'Cruze'\n",
      " 'Fabia' 'Rio' 'Passat' '406' 'Maruti' 'Q35' 'J7' 'Soul' 'Elantra HD'\n",
      " 'Lanos' 'Elantra MD' 'A7' 'Getz' 'Duster' 'Excel' 'Lanos 2' 'EcoSport'\n",
      " 'C5' 'Matrix' 'Elantra' '520' 'Superb' 'Emgrand 7' 'Doblo' 'Tiggo' 'X70S'\n",
      " 'Tiguan' 'Octavia A7' 'Alto' 'Fantasia' 'Qashqai' 'Sandero Step Way'\n",
      " 'Accent' 'Grand Cherokee' '3' 'GLA' 'Tucson' 'GLK 250' 'Saga' 'CLA 200'\n",
      " 'Elantra CN7' 'Insignia' 'Rush' 'Carens' 'FRV' 'Aveo' 'I10' 'Leon'\n",
      " 'Urvan' 'Swift' 'IX 35' 'Yaris' 'Vectra' 'Civic' 'Granta' 'EC 7' 'K3'\n",
      " 'A516' 'S Presso' 'Eos' 'Megane' 'J2' 'C Elysee' '508' 'Atos' 'Belta'\n",
      " 'Cordoba' 'Cool Ray' 'C5 Aircross' 'XC60' 'AMG GT' 'A 180' '320' 'Shahin'\n",
      " 'Terios' '2105' 'N300' 'EAGLE 580' 'Wrangler Unlimited' 'Sentra' 'Xceed'\n",
      " 'Grand Cerato' 'Emgrand' 'H6' 'Mira' 'Equinox' 'Baleno' '505' 'Camry'\n",
      " 'Tivoli XLV' 'Cayenne' 'X6 M' '440i' '350' 'Picanto' 'Leganza' 'Ceed'\n",
      " 'Cooper' 'Siena' 'Corsa' '3008' 'X7' 'Swift Dzire' 'Captur' 'Golf 4'\n",
      " 'XC90' 'Tiggo 8' 'Beetle' 'Arrizo 5 pro' 'Grand i10' 'GLA 180' 'X40' 'S4'\n",
      " 'Galant' 'Juliet' 'Hilux' 'C 240' 'JS3' 'X3' 'Captiva' 'Envy' 'A3'\n",
      " 'Jetta' 'Ex 7' 'XV' 'GLC 200' 'HS' '308' 'Toledo' 'Bayon' 'Nubira 1'\n",
      " 'Panda' 'GLC 300' 'T5 evo' 'Rx5' 'Fortuner' 'X4' 'SIRION' '525' 'A4'\n",
      " 'Ghibli' 'Octavia' '420' 'Torres' 'Xpander' 'Crossland' '500 X' 'Pandino'\n",
      " 'E Golf' 'Z4' '235' 'CLA 45 AMG' 'A 35 AMG' 'Pointer' 'Tempra' 'S30'\n",
      " '190' 'Xplosion' 'Jolion' 'X6' 'XTrail' 'FSV' '2008' 'Land Cruiser'\n",
      " 'Tucson GDI' 'GX3 Pro' '325' 'HRV' 'C 280' 'S 500' 'ID 4' 'Cerato Koup'\n",
      " '127' 'Van' 'Camaro' 'H1' 'Elantra Coupe' 'C4 Grand Picasso' 'X35'\n",
      " 'B 200' 'Pajero' 'Galena' 'Kuga' 'Vitara' '530' '307' 'Spark' 'Regata'\n",
      " '418' 'Eclipse' 'Tarraco' 'Kodiaq' '504' 'Eclipse Cross' 'Ateca' '116'\n",
      " 'Gentra' 'Xsara' 'Juke' '316' 'Tiggo 8 pro e+' 'Accent HCI' 'C 300' 'L3'\n",
      " 'Grand vitara' 'Avanza' 'A15' 'Pickup' 'Polo' '330S' 'ID 6' 'Ram' '318'\n",
      " '121' 'Arona' 'A 200' 'Fiesta' 'Sorento' 'Gran max' 'Wira' 'Trax' 'E 230'\n",
      " 'Golf 2' 'I20' 'Fox' 'Parati' 'E 300' 'Tiggo 7 pro' 'Sonata' 'DS7' 'A5'\n",
      " 'Veloster' 'S5' 'Thunderbird' 'Range Rover Vogue' 'CLA AMG' 'Innova'\n",
      " 'Karoq' 'Neon' 'S3' 'Matiz' 'B 150' 'C3' 'Impreza' 'Dart' 'X70' '500'\n",
      " 'Minivan' 'XD' 'Sandero' 'V5' 'V3' 'M4' 'Persona' 'S 550' 'Countryman S'\n",
      " 'Maybach S600' 'Vantage' '760' 'Durango' 'Felicia' 'Gen 2' 'Creta' '335'\n",
      " 'C3 Aircross' '408' 'Octavia A5' 'Microbus' '929' 'Malibu' '2107'\n",
      " 'Town & Country' 'M11' 'X70 Plus' 'Ranger' 'Suran' 'Q7' 'S60' 'V6' 'Clio'\n",
      " 'City' 'Saipa' 'Ck2' 'Golf 6' 'Bravo' 'E 200 AMG' 'E 180' 'CLA 180' '740'\n",
      " 'E2000' 'RX5 Plus' '250' 'Song Plus' 'Ax' 'Kamiq' 'Yeti' 'Preve'\n",
      " 'Cayenne S' 'Carnival' 'Corolla Cross' 'Celerio' 'X-Type' 'X5' 'Waja'\n",
      " '518' '750' 'T-Series' 'E 350' '2110' 'N5' 'Alsvin' 'Commander' 'C4'\n",
      " 'Ertiga' 'Macan' 'T5' 'Espero' 'Prado' 'Niva' 'N-Series' 'Pick up' '330'\n",
      " 'E 240' 'A 160' '9' 'X5 M' '280' 'Scenic' 'Scala' '206' 'Mirage' 'ASX'\n",
      " 'S 450' 'Meriva' 'Ritmo' 'Solaris' 'Hiace' 'G Class' 'Lancer Crystala'\n",
      " 'Punto evo' 'Sonic' 'Turan' 'Favorit' 'Creta Grand' '25' 'Sebring' '1300'\n",
      " 'Escape' 'Fusion' 'CRV' 'Touareg' '605' 'Dashing' 'Shuma' 'Coaster'\n",
      " 'Mokka' 'Q3' 'Scorpio' 'Musso' 'GLC 200 AMG Imported' 'Racer'\n",
      " 'Range Rover Evoque' 'IX1' 'CS 15' 'Colt' 'Grecale' '118' 'Roomster'\n",
      " 'Clubman' '208' '132' 'C 250' 'Seltos' 'GLS' 'Cross' 'Rapid' 'A13'\n",
      " 'Felicia combi' 'A30 Shine' 'Wrangler' '106' 'Giulietta' 'Charmant'\n",
      " 'H100' 'DS5' 'Dyna' 'Eado plus' 'V 60' 'A11' 'Grand Santa Fe' 'Petra'\n",
      " 'I3' 'X3 M' 'S2' 'Corsair' 'Rainbow' 'Nubira' 'Range Rover Sport' 'ENS1'\n",
      " 'Pacifica' 'Flying Spur' 'Fiorino' 'Linea' 'Taycan' 'X4M' 'GLK 350'\n",
      " 'B 180' 'T55' 'Rodeo' 'C 200 AMG' 'Starlet' 'Jimmy' 'Sx4' 'EX7'\n",
      " 'Grand C-Max' 'I30' 'Dogan' 'PT Cruiser' 'Tiburon' '124' 'Mini Truck'\n",
      " 'Velar' 'Range Rover' 'C Class' '523' '300' '323' 'Charger' 'Optima'\n",
      " 'Legacy' 'Veloz' 'Caprice' '607' '180' 'Q5' 'Discovery sport' 'MDX'\n",
      " 'Splendor' '2' 'Escort' 'Patrol' 'Ls' 'Santamo' 'Amarok' 'Bora'\n",
      " 'Maybach S500' 'Golf 7' 'Cascada' '620' 'A25' 'Tivoli' '360' 'Avensis'\n",
      " 'M50' 'Royal' 'E 220' 'C31' 'Livina' 'Golf 3' 'Model X' 'Marsh' 'Komodo'\n",
      " 'Mini' 'Eagle pro' 'Cadenza' 'S-Type' '228' 'CC' 'Indigo' '3 Series'\n",
      " '240' 'Jumpy' 'C8' 'Kancil' 'CS 35' 'Q22' 'Eado' 'ideal' 'Emgrand 5'\n",
      " 'Dream' 'MCV' 'Kicks' 'Carry' 'Accord' 'A 10' 'Imperial' 'New Star' 'XF'\n",
      " 'C-HR' 'F0' '340' '407' 'DX3' 'John Cooper' 'Flyer' 'A 45 AMG' 'ZX'\n",
      " 'QX80' 'Tiba' '218 i' 'B 160' 'EV6' 'Patrol safari' 'Golf 5' 'CLS Class'\n",
      " 'S7' 'T77 Pro' 'Gazelle' 'Familia' 'H2' 'LR2' 'Brava' '21' 'A6'\n",
      " 'E 53 AMG' 'Aeolus A30' 'Laguna' 'C2' 'Attrage' 'Navigator' 'Hover'\n",
      " 'Mondeo' 'Viva' 'B70' 'IX3' 'DX7' 'Glory' 'E-2008' 'S80' 'Z100'\n",
      " '1 Series' '001' 'Charade' 'Territory' 'A380' 'CS 85' 'Wingle 5' '2017'\n",
      " 'Cooper Roadster' 'C30' 'V7' 'GLE' 'Cielo' 'T-Roc' 'Stratus' 'N200'\n",
      " 'Haima 1' 'S 320' 'Pilot' '460' '308 sw' 'Cooper Paceman' 'CLA Class'\n",
      " '180B' 'Q8' 'Pegas' 'Integra' 'Materia' 'Creta SU2' '7' 'T5 Evo' 'Es'\n",
      " 'H530' 'Partner' 'Voyager' 'EQE' 'Freelander' 'Lobo' 'Polonez' 'F3R'\n",
      " 'Golf 8' 'Explorer' 'Echo' 'Gen 3' 'H3' '80' 'Exige' 'Frontera' '207'\n",
      " 'Ck' 'Formentor' 'Omega' 'Berlingo' 'Acadia' 'V101' 'J15' '131' 'RX'\n",
      " 'Mini Cooper S' 'Mk' 'Glory 330' 'Tiggo 2' 'foison' 'Largus' 'K01' 'X90'\n",
      " '695' 'Country man' 'Cressida' 'M70' 'Fortwo' 'CL Class' 'Peri' 'Ds5'\n",
      " 'Avalanche' 'Rapid Spaceback' '545' 'Cx 3' 'Skylark' 'Vita' 'Grandis'\n",
      " 'K5' 'Tons2 / 2.5' 'Giulietta Quadrifoglio Verde' 'X95' 'Discovery'\n",
      " 'XC 40' 'Glory Van' 'Prius' 'Cooper Hatch' 'Sprint' 'Bronco' 'X2'\n",
      " 'Rumion' 'SEL 280' 'Caddy' 'Fx' 'E Class' 'X Pandino' 'Auris'\n",
      " 'Panamera S' 'DX5' 'DBX' '220' 'Escalade' '2111' 'A213' 'XA' '528'\n",
      " 'Altima' 'Journey' 'M3' 'Kalina' 'K900' 'Click' 'Odyssey' 'LX 570'\n",
      " 'Corona' 'Compass' 'Han' 'Fruits' 'Haima 3' 'Florida' 'GLE 350' 'Z'\n",
      " 'Solara' 'Gratour' 'EQS' '146' 'Defender' 'CS 55' 'XE' 'Tiggo 4' 'MG 4'\n",
      " 'Terrain' 'Chery QQ' '125' 'B30' 'Okavango' 'Fronx' 'V60' 'Rapide S'\n",
      " 'GA3' 'Q2' 'T300' 'Town' '626' '230' 'S 350' 'X25' 'A8' 'Boxster S'\n",
      " 'Galloper' 'Legend' '1200' 'Naughty' 'Florid' 'X3 Pro' 'C4X' 'Rav 4'\n",
      " 'Yrv' 'Eagle' 'Arrizo 3' '560' 'Maxima' '2106' '1007' 'Tercel' 'Datsun'\n",
      " 'TT' 'M12' 'Model Y' 'Emkoo' 'Veyron' 'Altea' '500 E' 'Wagoneer'\n",
      " 'Tiggo 8 Pro' 'Palio' 'T500' 'L300' 'GS' 'Zaz' '207 SW' 'Bluebird'\n",
      " 'Pathfinder' 'APV' 'Teramont' 'Murano' 'Qubo' 'CLK' 'Qin Pro' 'Tons 5.5'\n",
      " 'Transporter' 'E 320' 'J5' 'Aurion' 'Model 3' 'Visto' 'M850' 'Family'\n",
      " 'MRV' 'Symbol' 'ZS EV' 'Marea' 'Envoy' 'G3' '244' '19' 'Blazer' 'GLK 300'\n",
      " 'Dargo' 'Multivan' 'LEAF' 'Convertible' 'Sparky' 'Genesis' 'Viano'\n",
      " 'Englon' 'CS 35 Plus' 'Spark EV' '156' 'DS3' 'Grand C4 Spacetourer'\n",
      " 'Mini Van' 'Terracan' 'RV 1' 'Veryca' 'C 230' 'Oka' 'Samara' 'Foreman'\n",
      " 'Transit' 'MZ 40' 'S40' 'Maple' '232' 'S90' 'Adam' '205' 'A 140' 'RCZ'\n",
      " 'Taurus' 'Jimny' '1100' 'Tiggo 7 pro max' 'C3 Picasso' 'Silverado'\n",
      " 'Lodgy' 'Stelvio' 'Duster Nova']\n"
     ]
    }
   ],
   "source": [
    "columns_to_transform = ['Color', 'Make', 'Model']\n",
    "\n",
    "for col in columns_to_transform:\n",
    "    unique_values = df[col].unique()\n",
    "    print(f\"Unique values in '{col}': {unique_values}\")\n"
   ]
  },
  {
   "cell_type": "code",
   "execution_count": 14,
   "id": "268d2304",
   "metadata": {
    "execution": {
     "iopub.execute_input": "2025-05-05T14:28:43.613381Z",
     "iopub.status.busy": "2025-05-05T14:28:43.613011Z",
     "iopub.status.idle": "2025-05-05T14:28:44.108029Z",
     "shell.execute_reply": "2025-05-05T14:28:44.106969Z"
    },
    "papermill": {
     "duration": 0.506699,
     "end_time": "2025-05-05T14:28:44.110127",
     "exception": false,
     "start_time": "2025-05-05T14:28:43.603428",
     "status": "completed"
    },
    "tags": []
   },
   "outputs": [
    {
     "data": {
      "text/html": [
       "        <script type=\"text/javascript\">\n",
       "        window.PlotlyConfig = {MathJaxConfig: 'local'};\n",
       "        if (window.MathJax && window.MathJax.Hub && window.MathJax.Hub.Config) {window.MathJax.Hub.Config({SVG: {font: \"STIX-Web\"}});}\n",
       "        if (typeof require !== 'undefined') {\n",
       "        require.undef(\"plotly\");\n",
       "        requirejs.config({\n",
       "            paths: {\n",
       "                'plotly': ['https://cdn.plot.ly/plotly-2.32.0.min']\n",
       "            }\n",
       "        });\n",
       "        require(['plotly'], function(Plotly) {\n",
       "            window._Plotly = Plotly;\n",
       "        });\n",
       "        }\n",
       "        </script>\n",
       "        "
      ]
     },
     "metadata": {},
     "output_type": "display_data"
    },
    {
     "data": {
      "text/html": [
       "<div>                            <div id=\"064d2463-a88d-4555-ad76-732762780d74\" class=\"plotly-graph-div\" style=\"height:800px; width:800px;\"></div>            <script type=\"text/javascript\">                require([\"plotly\"], function(Plotly) {                    window.PLOTLYENV=window.PLOTLYENV || {};                                    if (document.getElementById(\"064d2463-a88d-4555-ad76-732762780d74\")) {                    Plotly.newPlot(                        \"064d2463-a88d-4555-ad76-732762780d74\",                        [{\"hoverinfo\":\"label+percent+value\",\"labels\":[\"Hyundai\",\"Nissan\",\"Kia\",\"Chevrolet\",\"Toyota\",\"Fiat\",\"Renault\",\"Mitsubishi\",\"Mercedes\",\"Opel\",\"Chery\",\"BMW\",\"Skoda\",\"MG\",\"Daewoo\"],\"marker\":{\"colors\":[\"#636EFA\",\"#EF553B\",\"#00CC96\",\"#AB63FA\",\"#FFA15A\",\"#19D3F3\",\"#FF6692\",\"#B6E880\",\"#FF97FF\",\"#FECB52\",\"#1F77B4\",\"#FF7F0E\",\"#2CA02C\",\"#D62728\",\"#9467BD\"]},\"pull\":[0.1,0,0,0,0,0,0,0,0,0,0,0,0,0,0],\"textfont\":{\"size\":14},\"textinfo\":\"label+percent\",\"values\":[3694,2937,2931,1941,1804,1518,1478,1473,1283,1245,1216,974,961,787,735],\"type\":\"pie\"}],                        {\"template\":{\"data\":{\"histogram2dcontour\":[{\"type\":\"histogram2dcontour\",\"colorbar\":{\"outlinewidth\":0,\"ticks\":\"\"},\"colorscale\":[[0.0,\"#0d0887\"],[0.1111111111111111,\"#46039f\"],[0.2222222222222222,\"#7201a8\"],[0.3333333333333333,\"#9c179e\"],[0.4444444444444444,\"#bd3786\"],[0.5555555555555556,\"#d8576b\"],[0.6666666666666666,\"#ed7953\"],[0.7777777777777778,\"#fb9f3a\"],[0.8888888888888888,\"#fdca26\"],[1.0,\"#f0f921\"]]}],\"choropleth\":[{\"type\":\"choropleth\",\"colorbar\":{\"outlinewidth\":0,\"ticks\":\"\"}}],\"histogram2d\":[{\"type\":\"histogram2d\",\"colorbar\":{\"outlinewidth\":0,\"ticks\":\"\"},\"colorscale\":[[0.0,\"#0d0887\"],[0.1111111111111111,\"#46039f\"],[0.2222222222222222,\"#7201a8\"],[0.3333333333333333,\"#9c179e\"],[0.4444444444444444,\"#bd3786\"],[0.5555555555555556,\"#d8576b\"],[0.6666666666666666,\"#ed7953\"],[0.7777777777777778,\"#fb9f3a\"],[0.8888888888888888,\"#fdca26\"],[1.0,\"#f0f921\"]]}],\"heatmap\":[{\"type\":\"heatmap\",\"colorbar\":{\"outlinewidth\":0,\"ticks\":\"\"},\"colorscale\":[[0.0,\"#0d0887\"],[0.1111111111111111,\"#46039f\"],[0.2222222222222222,\"#7201a8\"],[0.3333333333333333,\"#9c179e\"],[0.4444444444444444,\"#bd3786\"],[0.5555555555555556,\"#d8576b\"],[0.6666666666666666,\"#ed7953\"],[0.7777777777777778,\"#fb9f3a\"],[0.8888888888888888,\"#fdca26\"],[1.0,\"#f0f921\"]]}],\"heatmapgl\":[{\"type\":\"heatmapgl\",\"colorbar\":{\"outlinewidth\":0,\"ticks\":\"\"},\"colorscale\":[[0.0,\"#0d0887\"],[0.1111111111111111,\"#46039f\"],[0.2222222222222222,\"#7201a8\"],[0.3333333333333333,\"#9c179e\"],[0.4444444444444444,\"#bd3786\"],[0.5555555555555556,\"#d8576b\"],[0.6666666666666666,\"#ed7953\"],[0.7777777777777778,\"#fb9f3a\"],[0.8888888888888888,\"#fdca26\"],[1.0,\"#f0f921\"]]}],\"contourcarpet\":[{\"type\":\"contourcarpet\",\"colorbar\":{\"outlinewidth\":0,\"ticks\":\"\"}}],\"contour\":[{\"type\":\"contour\",\"colorbar\":{\"outlinewidth\":0,\"ticks\":\"\"},\"colorscale\":[[0.0,\"#0d0887\"],[0.1111111111111111,\"#46039f\"],[0.2222222222222222,\"#7201a8\"],[0.3333333333333333,\"#9c179e\"],[0.4444444444444444,\"#bd3786\"],[0.5555555555555556,\"#d8576b\"],[0.6666666666666666,\"#ed7953\"],[0.7777777777777778,\"#fb9f3a\"],[0.8888888888888888,\"#fdca26\"],[1.0,\"#f0f921\"]]}],\"surface\":[{\"type\":\"surface\",\"colorbar\":{\"outlinewidth\":0,\"ticks\":\"\"},\"colorscale\":[[0.0,\"#0d0887\"],[0.1111111111111111,\"#46039f\"],[0.2222222222222222,\"#7201a8\"],[0.3333333333333333,\"#9c179e\"],[0.4444444444444444,\"#bd3786\"],[0.5555555555555556,\"#d8576b\"],[0.6666666666666666,\"#ed7953\"],[0.7777777777777778,\"#fb9f3a\"],[0.8888888888888888,\"#fdca26\"],[1.0,\"#f0f921\"]]}],\"mesh3d\":[{\"type\":\"mesh3d\",\"colorbar\":{\"outlinewidth\":0,\"ticks\":\"\"}}],\"scatter\":[{\"fillpattern\":{\"fillmode\":\"overlay\",\"size\":10,\"solidity\":0.2},\"type\":\"scatter\"}],\"parcoords\":[{\"type\":\"parcoords\",\"line\":{\"colorbar\":{\"outlinewidth\":0,\"ticks\":\"\"}}}],\"scatterpolargl\":[{\"type\":\"scatterpolargl\",\"marker\":{\"colorbar\":{\"outlinewidth\":0,\"ticks\":\"\"}}}],\"bar\":[{\"error_x\":{\"color\":\"#2a3f5f\"},\"error_y\":{\"color\":\"#2a3f5f\"},\"marker\":{\"line\":{\"color\":\"#E5ECF6\",\"width\":0.5},\"pattern\":{\"fillmode\":\"overlay\",\"size\":10,\"solidity\":0.2}},\"type\":\"bar\"}],\"scattergeo\":[{\"type\":\"scattergeo\",\"marker\":{\"colorbar\":{\"outlinewidth\":0,\"ticks\":\"\"}}}],\"scatterpolar\":[{\"type\":\"scatterpolar\",\"marker\":{\"colorbar\":{\"outlinewidth\":0,\"ticks\":\"\"}}}],\"histogram\":[{\"marker\":{\"pattern\":{\"fillmode\":\"overlay\",\"size\":10,\"solidity\":0.2}},\"type\":\"histogram\"}],\"scattergl\":[{\"type\":\"scattergl\",\"marker\":{\"colorbar\":{\"outlinewidth\":0,\"ticks\":\"\"}}}],\"scatter3d\":[{\"type\":\"scatter3d\",\"line\":{\"colorbar\":{\"outlinewidth\":0,\"ticks\":\"\"}},\"marker\":{\"colorbar\":{\"outlinewidth\":0,\"ticks\":\"\"}}}],\"scattermapbox\":[{\"type\":\"scattermapbox\",\"marker\":{\"colorbar\":{\"outlinewidth\":0,\"ticks\":\"\"}}}],\"scatterternary\":[{\"type\":\"scatterternary\",\"marker\":{\"colorbar\":{\"outlinewidth\":0,\"ticks\":\"\"}}}],\"scattercarpet\":[{\"type\":\"scattercarpet\",\"marker\":{\"colorbar\":{\"outlinewidth\":0,\"ticks\":\"\"}}}],\"carpet\":[{\"aaxis\":{\"endlinecolor\":\"#2a3f5f\",\"gridcolor\":\"white\",\"linecolor\":\"white\",\"minorgridcolor\":\"white\",\"startlinecolor\":\"#2a3f5f\"},\"baxis\":{\"endlinecolor\":\"#2a3f5f\",\"gridcolor\":\"white\",\"linecolor\":\"white\",\"minorgridcolor\":\"white\",\"startlinecolor\":\"#2a3f5f\"},\"type\":\"carpet\"}],\"table\":[{\"cells\":{\"fill\":{\"color\":\"#EBF0F8\"},\"line\":{\"color\":\"white\"}},\"header\":{\"fill\":{\"color\":\"#C8D4E3\"},\"line\":{\"color\":\"white\"}},\"type\":\"table\"}],\"barpolar\":[{\"marker\":{\"line\":{\"color\":\"#E5ECF6\",\"width\":0.5},\"pattern\":{\"fillmode\":\"overlay\",\"size\":10,\"solidity\":0.2}},\"type\":\"barpolar\"}],\"pie\":[{\"automargin\":true,\"type\":\"pie\"}]},\"layout\":{\"autotypenumbers\":\"strict\",\"colorway\":[\"#636efa\",\"#EF553B\",\"#00cc96\",\"#ab63fa\",\"#FFA15A\",\"#19d3f3\",\"#FF6692\",\"#B6E880\",\"#FF97FF\",\"#FECB52\"],\"font\":{\"color\":\"#2a3f5f\"},\"hovermode\":\"closest\",\"hoverlabel\":{\"align\":\"left\"},\"paper_bgcolor\":\"white\",\"plot_bgcolor\":\"#E5ECF6\",\"polar\":{\"bgcolor\":\"#E5ECF6\",\"angularaxis\":{\"gridcolor\":\"white\",\"linecolor\":\"white\",\"ticks\":\"\"},\"radialaxis\":{\"gridcolor\":\"white\",\"linecolor\":\"white\",\"ticks\":\"\"}},\"ternary\":{\"bgcolor\":\"#E5ECF6\",\"aaxis\":{\"gridcolor\":\"white\",\"linecolor\":\"white\",\"ticks\":\"\"},\"baxis\":{\"gridcolor\":\"white\",\"linecolor\":\"white\",\"ticks\":\"\"},\"caxis\":{\"gridcolor\":\"white\",\"linecolor\":\"white\",\"ticks\":\"\"}},\"coloraxis\":{\"colorbar\":{\"outlinewidth\":0,\"ticks\":\"\"}},\"colorscale\":{\"sequential\":[[0.0,\"#0d0887\"],[0.1111111111111111,\"#46039f\"],[0.2222222222222222,\"#7201a8\"],[0.3333333333333333,\"#9c179e\"],[0.4444444444444444,\"#bd3786\"],[0.5555555555555556,\"#d8576b\"],[0.6666666666666666,\"#ed7953\"],[0.7777777777777778,\"#fb9f3a\"],[0.8888888888888888,\"#fdca26\"],[1.0,\"#f0f921\"]],\"sequentialminus\":[[0.0,\"#0d0887\"],[0.1111111111111111,\"#46039f\"],[0.2222222222222222,\"#7201a8\"],[0.3333333333333333,\"#9c179e\"],[0.4444444444444444,\"#bd3786\"],[0.5555555555555556,\"#d8576b\"],[0.6666666666666666,\"#ed7953\"],[0.7777777777777778,\"#fb9f3a\"],[0.8888888888888888,\"#fdca26\"],[1.0,\"#f0f921\"]],\"diverging\":[[0,\"#8e0152\"],[0.1,\"#c51b7d\"],[0.2,\"#de77ae\"],[0.3,\"#f1b6da\"],[0.4,\"#fde0ef\"],[0.5,\"#f7f7f7\"],[0.6,\"#e6f5d0\"],[0.7,\"#b8e186\"],[0.8,\"#7fbc41\"],[0.9,\"#4d9221\"],[1,\"#276419\"]]},\"xaxis\":{\"gridcolor\":\"white\",\"linecolor\":\"white\",\"ticks\":\"\",\"title\":{\"standoff\":15},\"zerolinecolor\":\"white\",\"automargin\":true,\"zerolinewidth\":2},\"yaxis\":{\"gridcolor\":\"white\",\"linecolor\":\"white\",\"ticks\":\"\",\"title\":{\"standoff\":15},\"zerolinecolor\":\"white\",\"automargin\":true,\"zerolinewidth\":2},\"scene\":{\"xaxis\":{\"backgroundcolor\":\"#E5ECF6\",\"gridcolor\":\"white\",\"linecolor\":\"white\",\"showbackground\":true,\"ticks\":\"\",\"zerolinecolor\":\"white\",\"gridwidth\":2},\"yaxis\":{\"backgroundcolor\":\"#E5ECF6\",\"gridcolor\":\"white\",\"linecolor\":\"white\",\"showbackground\":true,\"ticks\":\"\",\"zerolinecolor\":\"white\",\"gridwidth\":2},\"zaxis\":{\"backgroundcolor\":\"#E5ECF6\",\"gridcolor\":\"white\",\"linecolor\":\"white\",\"showbackground\":true,\"ticks\":\"\",\"zerolinecolor\":\"white\",\"gridwidth\":2}},\"shapedefaults\":{\"line\":{\"color\":\"#2a3f5f\"}},\"annotationdefaults\":{\"arrowcolor\":\"#2a3f5f\",\"arrowhead\":0,\"arrowwidth\":1},\"geo\":{\"bgcolor\":\"white\",\"landcolor\":\"#E5ECF6\",\"subunitcolor\":\"white\",\"showland\":true,\"showlakes\":true,\"lakecolor\":\"white\"},\"title\":{\"x\":0.05},\"mapbox\":{\"style\":\"light\"}}},\"title\":{\"font\":{\"size\":24,\"color\":\"black\",\"family\":\"Arial\"},\"text\":\"Top 15 Car Makers\",\"x\":0.5},\"legend\":{\"font\":{\"size\":12},\"orientation\":\"h\",\"yanchor\":\"bottom\",\"y\":-0.4,\"xanchor\":\"center\",\"x\":0.6},\"margin\":{\"t\":100,\"b\":120,\"l\":40,\"r\":40},\"showlegend\":true,\"height\":800,\"width\":800},                        {\"responsive\": true}                    ).then(function(){\n",
       "                            \n",
       "var gd = document.getElementById('064d2463-a88d-4555-ad76-732762780d74');\n",
       "var x = new MutationObserver(function (mutations, observer) {{\n",
       "        var display = window.getComputedStyle(gd).display;\n",
       "        if (!display || display === 'none') {{\n",
       "            console.log([gd, 'removed!']);\n",
       "            Plotly.purge(gd);\n",
       "            observer.disconnect();\n",
       "        }}\n",
       "}});\n",
       "\n",
       "// Listen for the removal of the full notebook cells\n",
       "var notebookContainer = gd.closest('#notebook-container');\n",
       "if (notebookContainer) {{\n",
       "    x.observe(notebookContainer, {childList: true});\n",
       "}}\n",
       "\n",
       "// Listen for the clearing of the current output cell\n",
       "var outputEl = gd.closest('.output');\n",
       "if (outputEl) {{\n",
       "    x.observe(outputEl, {childList: true});\n",
       "}}\n",
       "\n",
       "                        })                };                });            </script>        </div>"
      ]
     },
     "metadata": {},
     "output_type": "display_data"
    }
   ],
   "source": [
    "companies_count = df['Make'].value_counts().nlargest(15)\n",
    "\n",
    "colors = ['#636EFA', '#EF553B', '#00CC96', '#AB63FA', '#FFA15A', '#19D3F3',\n",
    "          '#FF6692', '#B6E880', '#FF97FF', '#FECB52', '#1F77B4', '#FF7F0E',\n",
    "          '#2CA02C', '#D62728', '#9467BD']\n",
    "\n",
    "fig = go.Figure(data=[go.Pie(labels=companies_count.index,\n",
    "                             values=companies_count.values,\n",
    "                             pull=[0.1] + [0] * (len(companies_count) - 1),  \n",
    "                             marker=dict(colors=colors),  \n",
    "                             hoverinfo='label+percent+value',  \n",
    "                             textinfo='label+percent', \n",
    "                             textfont=dict(size=14)) \n",
    "                    ])\n",
    "\n",
    "fig.update_layout(\n",
    "    title_text=\"Top 15 Car Makers\", \n",
    "    title_x=0.5,  \n",
    "    title_font=dict(size=24, color='black', family='Arial'),\n",
    "    showlegend=True, \n",
    "    legend=dict(orientation=\"h\", yanchor=\"bottom\", y=-0.4, xanchor=\"center\", x=0.6, font=dict(size=12)),\n",
    "    margin=dict(t=100, b=120, l=40, r=40),\n",
    "    height=800, \n",
    "    width=800  \n",
    ")\n",
    "\n",
    "fig.show()"
   ]
  },
  {
   "cell_type": "code",
   "execution_count": 15,
   "id": "a101f1cf",
   "metadata": {
    "execution": {
     "iopub.execute_input": "2025-05-05T14:28:44.130084Z",
     "iopub.status.busy": "2025-05-05T14:28:44.129731Z",
     "iopub.status.idle": "2025-05-05T14:28:44.156181Z",
     "shell.execute_reply": "2025-05-05T14:28:44.155122Z"
    },
    "papermill": {
     "duration": 0.038918,
     "end_time": "2025-05-05T14:28:44.158341",
     "exception": false,
     "start_time": "2025-05-05T14:28:44.119423",
     "status": "completed"
    },
    "tags": []
   },
   "outputs": [
    {
     "data": {
      "text/html": [
       "<div>                            <div id=\"7e36de3b-5f48-4723-b11e-2aeac07c0575\" class=\"plotly-graph-div\" style=\"height:800px; width:800px;\"></div>            <script type=\"text/javascript\">                require([\"plotly\"], function(Plotly) {                    window.PLOTLYENV=window.PLOTLYENV || {};                                    if (document.getElementById(\"7e36de3b-5f48-4723-b11e-2aeac07c0575\")) {                    Plotly.newPlot(                        \"7e36de3b-5f48-4723-b11e-2aeac07c0575\",                        [{\"hoverinfo\":\"label+percent+value\",\"labels\":[\"Sunny\",\"Corolla\",\"Verna\",\"Optra\",\"Tipo\",\"Cerato\",\"Sportage\",\"Astra\",\"Lancer Puma\",\"Arrizo 5\",\"Megane\",\"5\",\"Sentra\",\"Tiggo 3\",\"Lancer EX Shark\"],\"marker\":{\"colors\":[\"#636EFA\",\"#EF553B\",\"#00CC96\",\"#AB63FA\",\"#FFA15A\",\"#19D3F3\",\"#FF6692\",\"#B6E880\",\"#FF97FF\",\"#FECB52\",\"#1F77B4\",\"#FF7F0E\",\"#2CA02C\",\"#D62728\",\"#9467BD\"]},\"pull\":[0.1,0,0,0,0,0,0,0,0,0,0,0,0,0,0],\"textfont\":{\"size\":14},\"textinfo\":\"label+percent\",\"values\":[1847,1494,1066,952,890,735,654,563,550,540,495,491,483,437,417],\"type\":\"pie\"}],                        {\"template\":{\"data\":{\"histogram2dcontour\":[{\"type\":\"histogram2dcontour\",\"colorbar\":{\"outlinewidth\":0,\"ticks\":\"\"},\"colorscale\":[[0.0,\"#0d0887\"],[0.1111111111111111,\"#46039f\"],[0.2222222222222222,\"#7201a8\"],[0.3333333333333333,\"#9c179e\"],[0.4444444444444444,\"#bd3786\"],[0.5555555555555556,\"#d8576b\"],[0.6666666666666666,\"#ed7953\"],[0.7777777777777778,\"#fb9f3a\"],[0.8888888888888888,\"#fdca26\"],[1.0,\"#f0f921\"]]}],\"choropleth\":[{\"type\":\"choropleth\",\"colorbar\":{\"outlinewidth\":0,\"ticks\":\"\"}}],\"histogram2d\":[{\"type\":\"histogram2d\",\"colorbar\":{\"outlinewidth\":0,\"ticks\":\"\"},\"colorscale\":[[0.0,\"#0d0887\"],[0.1111111111111111,\"#46039f\"],[0.2222222222222222,\"#7201a8\"],[0.3333333333333333,\"#9c179e\"],[0.4444444444444444,\"#bd3786\"],[0.5555555555555556,\"#d8576b\"],[0.6666666666666666,\"#ed7953\"],[0.7777777777777778,\"#fb9f3a\"],[0.8888888888888888,\"#fdca26\"],[1.0,\"#f0f921\"]]}],\"heatmap\":[{\"type\":\"heatmap\",\"colorbar\":{\"outlinewidth\":0,\"ticks\":\"\"},\"colorscale\":[[0.0,\"#0d0887\"],[0.1111111111111111,\"#46039f\"],[0.2222222222222222,\"#7201a8\"],[0.3333333333333333,\"#9c179e\"],[0.4444444444444444,\"#bd3786\"],[0.5555555555555556,\"#d8576b\"],[0.6666666666666666,\"#ed7953\"],[0.7777777777777778,\"#fb9f3a\"],[0.8888888888888888,\"#fdca26\"],[1.0,\"#f0f921\"]]}],\"heatmapgl\":[{\"type\":\"heatmapgl\",\"colorbar\":{\"outlinewidth\":0,\"ticks\":\"\"},\"colorscale\":[[0.0,\"#0d0887\"],[0.1111111111111111,\"#46039f\"],[0.2222222222222222,\"#7201a8\"],[0.3333333333333333,\"#9c179e\"],[0.4444444444444444,\"#bd3786\"],[0.5555555555555556,\"#d8576b\"],[0.6666666666666666,\"#ed7953\"],[0.7777777777777778,\"#fb9f3a\"],[0.8888888888888888,\"#fdca26\"],[1.0,\"#f0f921\"]]}],\"contourcarpet\":[{\"type\":\"contourcarpet\",\"colorbar\":{\"outlinewidth\":0,\"ticks\":\"\"}}],\"contour\":[{\"type\":\"contour\",\"colorbar\":{\"outlinewidth\":0,\"ticks\":\"\"},\"colorscale\":[[0.0,\"#0d0887\"],[0.1111111111111111,\"#46039f\"],[0.2222222222222222,\"#7201a8\"],[0.3333333333333333,\"#9c179e\"],[0.4444444444444444,\"#bd3786\"],[0.5555555555555556,\"#d8576b\"],[0.6666666666666666,\"#ed7953\"],[0.7777777777777778,\"#fb9f3a\"],[0.8888888888888888,\"#fdca26\"],[1.0,\"#f0f921\"]]}],\"surface\":[{\"type\":\"surface\",\"colorbar\":{\"outlinewidth\":0,\"ticks\":\"\"},\"colorscale\":[[0.0,\"#0d0887\"],[0.1111111111111111,\"#46039f\"],[0.2222222222222222,\"#7201a8\"],[0.3333333333333333,\"#9c179e\"],[0.4444444444444444,\"#bd3786\"],[0.5555555555555556,\"#d8576b\"],[0.6666666666666666,\"#ed7953\"],[0.7777777777777778,\"#fb9f3a\"],[0.8888888888888888,\"#fdca26\"],[1.0,\"#f0f921\"]]}],\"mesh3d\":[{\"type\":\"mesh3d\",\"colorbar\":{\"outlinewidth\":0,\"ticks\":\"\"}}],\"scatter\":[{\"fillpattern\":{\"fillmode\":\"overlay\",\"size\":10,\"solidity\":0.2},\"type\":\"scatter\"}],\"parcoords\":[{\"type\":\"parcoords\",\"line\":{\"colorbar\":{\"outlinewidth\":0,\"ticks\":\"\"}}}],\"scatterpolargl\":[{\"type\":\"scatterpolargl\",\"marker\":{\"colorbar\":{\"outlinewidth\":0,\"ticks\":\"\"}}}],\"bar\":[{\"error_x\":{\"color\":\"#2a3f5f\"},\"error_y\":{\"color\":\"#2a3f5f\"},\"marker\":{\"line\":{\"color\":\"#E5ECF6\",\"width\":0.5},\"pattern\":{\"fillmode\":\"overlay\",\"size\":10,\"solidity\":0.2}},\"type\":\"bar\"}],\"scattergeo\":[{\"type\":\"scattergeo\",\"marker\":{\"colorbar\":{\"outlinewidth\":0,\"ticks\":\"\"}}}],\"scatterpolar\":[{\"type\":\"scatterpolar\",\"marker\":{\"colorbar\":{\"outlinewidth\":0,\"ticks\":\"\"}}}],\"histogram\":[{\"marker\":{\"pattern\":{\"fillmode\":\"overlay\",\"size\":10,\"solidity\":0.2}},\"type\":\"histogram\"}],\"scattergl\":[{\"type\":\"scattergl\",\"marker\":{\"colorbar\":{\"outlinewidth\":0,\"ticks\":\"\"}}}],\"scatter3d\":[{\"type\":\"scatter3d\",\"line\":{\"colorbar\":{\"outlinewidth\":0,\"ticks\":\"\"}},\"marker\":{\"colorbar\":{\"outlinewidth\":0,\"ticks\":\"\"}}}],\"scattermapbox\":[{\"type\":\"scattermapbox\",\"marker\":{\"colorbar\":{\"outlinewidth\":0,\"ticks\":\"\"}}}],\"scatterternary\":[{\"type\":\"scatterternary\",\"marker\":{\"colorbar\":{\"outlinewidth\":0,\"ticks\":\"\"}}}],\"scattercarpet\":[{\"type\":\"scattercarpet\",\"marker\":{\"colorbar\":{\"outlinewidth\":0,\"ticks\":\"\"}}}],\"carpet\":[{\"aaxis\":{\"endlinecolor\":\"#2a3f5f\",\"gridcolor\":\"white\",\"linecolor\":\"white\",\"minorgridcolor\":\"white\",\"startlinecolor\":\"#2a3f5f\"},\"baxis\":{\"endlinecolor\":\"#2a3f5f\",\"gridcolor\":\"white\",\"linecolor\":\"white\",\"minorgridcolor\":\"white\",\"startlinecolor\":\"#2a3f5f\"},\"type\":\"carpet\"}],\"table\":[{\"cells\":{\"fill\":{\"color\":\"#EBF0F8\"},\"line\":{\"color\":\"white\"}},\"header\":{\"fill\":{\"color\":\"#C8D4E3\"},\"line\":{\"color\":\"white\"}},\"type\":\"table\"}],\"barpolar\":[{\"marker\":{\"line\":{\"color\":\"#E5ECF6\",\"width\":0.5},\"pattern\":{\"fillmode\":\"overlay\",\"size\":10,\"solidity\":0.2}},\"type\":\"barpolar\"}],\"pie\":[{\"automargin\":true,\"type\":\"pie\"}]},\"layout\":{\"autotypenumbers\":\"strict\",\"colorway\":[\"#636efa\",\"#EF553B\",\"#00cc96\",\"#ab63fa\",\"#FFA15A\",\"#19d3f3\",\"#FF6692\",\"#B6E880\",\"#FF97FF\",\"#FECB52\"],\"font\":{\"color\":\"#2a3f5f\"},\"hovermode\":\"closest\",\"hoverlabel\":{\"align\":\"left\"},\"paper_bgcolor\":\"white\",\"plot_bgcolor\":\"#E5ECF6\",\"polar\":{\"bgcolor\":\"#E5ECF6\",\"angularaxis\":{\"gridcolor\":\"white\",\"linecolor\":\"white\",\"ticks\":\"\"},\"radialaxis\":{\"gridcolor\":\"white\",\"linecolor\":\"white\",\"ticks\":\"\"}},\"ternary\":{\"bgcolor\":\"#E5ECF6\",\"aaxis\":{\"gridcolor\":\"white\",\"linecolor\":\"white\",\"ticks\":\"\"},\"baxis\":{\"gridcolor\":\"white\",\"linecolor\":\"white\",\"ticks\":\"\"},\"caxis\":{\"gridcolor\":\"white\",\"linecolor\":\"white\",\"ticks\":\"\"}},\"coloraxis\":{\"colorbar\":{\"outlinewidth\":0,\"ticks\":\"\"}},\"colorscale\":{\"sequential\":[[0.0,\"#0d0887\"],[0.1111111111111111,\"#46039f\"],[0.2222222222222222,\"#7201a8\"],[0.3333333333333333,\"#9c179e\"],[0.4444444444444444,\"#bd3786\"],[0.5555555555555556,\"#d8576b\"],[0.6666666666666666,\"#ed7953\"],[0.7777777777777778,\"#fb9f3a\"],[0.8888888888888888,\"#fdca26\"],[1.0,\"#f0f921\"]],\"sequentialminus\":[[0.0,\"#0d0887\"],[0.1111111111111111,\"#46039f\"],[0.2222222222222222,\"#7201a8\"],[0.3333333333333333,\"#9c179e\"],[0.4444444444444444,\"#bd3786\"],[0.5555555555555556,\"#d8576b\"],[0.6666666666666666,\"#ed7953\"],[0.7777777777777778,\"#fb9f3a\"],[0.8888888888888888,\"#fdca26\"],[1.0,\"#f0f921\"]],\"diverging\":[[0,\"#8e0152\"],[0.1,\"#c51b7d\"],[0.2,\"#de77ae\"],[0.3,\"#f1b6da\"],[0.4,\"#fde0ef\"],[0.5,\"#f7f7f7\"],[0.6,\"#e6f5d0\"],[0.7,\"#b8e186\"],[0.8,\"#7fbc41\"],[0.9,\"#4d9221\"],[1,\"#276419\"]]},\"xaxis\":{\"gridcolor\":\"white\",\"linecolor\":\"white\",\"ticks\":\"\",\"title\":{\"standoff\":15},\"zerolinecolor\":\"white\",\"automargin\":true,\"zerolinewidth\":2},\"yaxis\":{\"gridcolor\":\"white\",\"linecolor\":\"white\",\"ticks\":\"\",\"title\":{\"standoff\":15},\"zerolinecolor\":\"white\",\"automargin\":true,\"zerolinewidth\":2},\"scene\":{\"xaxis\":{\"backgroundcolor\":\"#E5ECF6\",\"gridcolor\":\"white\",\"linecolor\":\"white\",\"showbackground\":true,\"ticks\":\"\",\"zerolinecolor\":\"white\",\"gridwidth\":2},\"yaxis\":{\"backgroundcolor\":\"#E5ECF6\",\"gridcolor\":\"white\",\"linecolor\":\"white\",\"showbackground\":true,\"ticks\":\"\",\"zerolinecolor\":\"white\",\"gridwidth\":2},\"zaxis\":{\"backgroundcolor\":\"#E5ECF6\",\"gridcolor\":\"white\",\"linecolor\":\"white\",\"showbackground\":true,\"ticks\":\"\",\"zerolinecolor\":\"white\",\"gridwidth\":2}},\"shapedefaults\":{\"line\":{\"color\":\"#2a3f5f\"}},\"annotationdefaults\":{\"arrowcolor\":\"#2a3f5f\",\"arrowhead\":0,\"arrowwidth\":1},\"geo\":{\"bgcolor\":\"white\",\"landcolor\":\"#E5ECF6\",\"subunitcolor\":\"white\",\"showland\":true,\"showlakes\":true,\"lakecolor\":\"white\"},\"title\":{\"x\":0.05},\"mapbox\":{\"style\":\"light\"}}},\"title\":{\"font\":{\"size\":24,\"color\":\"black\",\"family\":\"Arial\"},\"text\":\"Top 15 Car Models\",\"x\":0.5},\"legend\":{\"font\":{\"size\":12},\"orientation\":\"h\",\"yanchor\":\"bottom\",\"y\":-0.4,\"xanchor\":\"center\",\"x\":0.6},\"margin\":{\"t\":100,\"b\":120,\"l\":40,\"r\":40},\"showlegend\":true,\"height\":800,\"width\":800},                        {\"responsive\": true}                    ).then(function(){\n",
       "                            \n",
       "var gd = document.getElementById('7e36de3b-5f48-4723-b11e-2aeac07c0575');\n",
       "var x = new MutationObserver(function (mutations, observer) {{\n",
       "        var display = window.getComputedStyle(gd).display;\n",
       "        if (!display || display === 'none') {{\n",
       "            console.log([gd, 'removed!']);\n",
       "            Plotly.purge(gd);\n",
       "            observer.disconnect();\n",
       "        }}\n",
       "}});\n",
       "\n",
       "// Listen for the removal of the full notebook cells\n",
       "var notebookContainer = gd.closest('#notebook-container');\n",
       "if (notebookContainer) {{\n",
       "    x.observe(notebookContainer, {childList: true});\n",
       "}}\n",
       "\n",
       "// Listen for the clearing of the current output cell\n",
       "var outputEl = gd.closest('.output');\n",
       "if (outputEl) {{\n",
       "    x.observe(outputEl, {childList: true});\n",
       "}}\n",
       "\n",
       "                        })                };                });            </script>        </div>"
      ]
     },
     "metadata": {},
     "output_type": "display_data"
    }
   ],
   "source": [
    "companies_count = df['Model'].value_counts().nlargest(15)\n",
    "\n",
    "colors = ['#636EFA', '#EF553B', '#00CC96', '#AB63FA', '#FFA15A', '#19D3F3',\n",
    "          '#FF6692', '#B6E880', '#FF97FF', '#FECB52', '#1F77B4', '#FF7F0E',\n",
    "          '#2CA02C', '#D62728', '#9467BD']\n",
    "\n",
    "fig = go.Figure(data=[go.Pie(labels=companies_count.index,\n",
    "                             values=companies_count.values,\n",
    "                             pull=[0.1] + [0] * (len(companies_count) - 1),  \n",
    "                             marker=dict(colors=colors),  \n",
    "                             hoverinfo='label+percent+value',  \n",
    "                             textinfo='label+percent', \n",
    "                             textfont=dict(size=14)) \n",
    "                    ])\n",
    "\n",
    "fig.update_layout(\n",
    "    title_text=\"Top 15 Car Models\", \n",
    "    title_x=0.5,  \n",
    "    title_font=dict(size=24, color='black', family='Arial'),\n",
    "    showlegend=True, \n",
    "    legend=dict(orientation=\"h\", yanchor=\"bottom\", y=-0.4, xanchor=\"center\", x=0.6, font=dict(size=12)),\n",
    "    margin=dict(t=100, b=120, l=40, r=40),\n",
    "    height=800, \n",
    "    width=800  \n",
    ")\n",
    "\n",
    "fig.show()"
   ]
  },
  {
   "cell_type": "markdown",
   "id": "5e022e83",
   "metadata": {
    "papermill": {
     "duration": 0.008951,
     "end_time": "2025-05-05T14:28:44.176903",
     "exception": false,
     "start_time": "2025-05-05T14:28:44.167952",
     "status": "completed"
    },
    "tags": []
   },
   "source": [
    "# Data Cleaning and Preprocessing"
   ]
  },
  {
   "cell_type": "code",
   "execution_count": 16,
   "id": "717a115a",
   "metadata": {
    "execution": {
     "iopub.execute_input": "2025-05-05T14:28:44.197218Z",
     "iopub.status.busy": "2025-05-05T14:28:44.196316Z",
     "iopub.status.idle": "2025-05-05T14:28:44.211331Z",
     "shell.execute_reply": "2025-05-05T14:28:44.210286Z"
    },
    "papermill": {
     "duration": 0.02748,
     "end_time": "2025-05-05T14:28:44.213513",
     "exception": false,
     "start_time": "2025-05-05T14:28:44.186033",
     "status": "completed"
    },
    "tags": []
   },
   "outputs": [
    {
     "data": {
      "text/html": [
       "<div>\n",
       "<style scoped>\n",
       "    .dataframe tbody tr th:only-of-type {\n",
       "        vertical-align: middle;\n",
       "    }\n",
       "\n",
       "    .dataframe tbody tr th {\n",
       "        vertical-align: top;\n",
       "    }\n",
       "\n",
       "    .dataframe thead th {\n",
       "        text-align: right;\n",
       "    }\n",
       "</style>\n",
       "<table border=\"1\" class=\"dataframe\">\n",
       "  <thead>\n",
       "    <tr style=\"text-align: right;\">\n",
       "      <th></th>\n",
       "      <th>Name</th>\n",
       "      <th>Price</th>\n",
       "      <th>Color</th>\n",
       "      <th>Mileage</th>\n",
       "      <th>Make</th>\n",
       "      <th>Model</th>\n",
       "      <th>City</th>\n",
       "      <th>Date Displayed</th>\n",
       "      <th>Automatic Transmission</th>\n",
       "      <th>Air Conditioner</th>\n",
       "      <th>Power Steering</th>\n",
       "      <th>Remote Control</th>\n",
       "      <th>Item URL</th>\n",
       "    </tr>\n",
       "  </thead>\n",
       "  <tbody>\n",
       "    <tr>\n",
       "      <th>0</th>\n",
       "      <td>Kia Sportage 2024</td>\n",
       "      <td>2,800,000 EGP</td>\n",
       "      <td>Dark grey</td>\n",
       "      <td>300 Km</td>\n",
       "      <td>Kia</td>\n",
       "      <td>Sportage</td>\n",
       "      <td>Tagamo3 - New Cairo</td>\n",
       "      <td>2024-02-16</td>\n",
       "      <td>Yes</td>\n",
       "      <td>Yes</td>\n",
       "      <td>Yes</td>\n",
       "      <td>Yes</td>\n",
       "      <td>https://eg.hatla2ee.com/en/car/kia/sportage/62...</td>\n",
       "    </tr>\n",
       "    <tr>\n",
       "      <th>2</th>\n",
       "      <td>Fiat Tipo 2021</td>\n",
       "      <td>1,200,000 EGP</td>\n",
       "      <td>Petroleum</td>\n",
       "      <td>131,000 Km</td>\n",
       "      <td>Fiat</td>\n",
       "      <td>Tipo</td>\n",
       "      <td>Kafr el-Dawwar</td>\n",
       "      <td>2024-02-16</td>\n",
       "      <td>Yes</td>\n",
       "      <td>Yes</td>\n",
       "      <td>Yes</td>\n",
       "      <td>Yes</td>\n",
       "      <td>https://eg.hatla2ee.com/en/car/fiat/tipo/6286701</td>\n",
       "    </tr>\n",
       "    <tr>\n",
       "      <th>3</th>\n",
       "      <td>Hyundai Tucson Turbo GDI 2021</td>\n",
       "      <td>2,050,000 EGP</td>\n",
       "      <td>Black</td>\n",
       "      <td>125,000 Km</td>\n",
       "      <td>Hyundai</td>\n",
       "      <td>Tucson Turbo GDI</td>\n",
       "      <td>Nasr city</td>\n",
       "      <td>2024-02-16</td>\n",
       "      <td>Yes</td>\n",
       "      <td>Yes</td>\n",
       "      <td>Yes</td>\n",
       "      <td>Yes</td>\n",
       "      <td>https://eg.hatla2ee.com/en/car/hyundai/Tucson-...</td>\n",
       "    </tr>\n",
       "    <tr>\n",
       "      <th>4</th>\n",
       "      <td>BMW X1 2018</td>\n",
       "      <td>2,050,000 EGP</td>\n",
       "      <td>Gray</td>\n",
       "      <td>84,000 Km</td>\n",
       "      <td>BMW</td>\n",
       "      <td>X1</td>\n",
       "      <td>Cairo</td>\n",
       "      <td>2024-02-16</td>\n",
       "      <td>Yes</td>\n",
       "      <td>Yes</td>\n",
       "      <td>Yes</td>\n",
       "      <td>Yes</td>\n",
       "      <td>https://eg.hatla2ee.com/en/car/bmw/x1/6254123</td>\n",
       "    </tr>\n",
       "    <tr>\n",
       "      <th>5</th>\n",
       "      <td>Chevrolet Optra 2021</td>\n",
       "      <td>700,000 EGP</td>\n",
       "      <td>Blue</td>\n",
       "      <td>75,000 Km</td>\n",
       "      <td>Chevrolet</td>\n",
       "      <td>Optra</td>\n",
       "      <td>Obour City</td>\n",
       "      <td>2024-02-16</td>\n",
       "      <td>Yes</td>\n",
       "      <td>Yes</td>\n",
       "      <td>Yes</td>\n",
       "      <td>Yes</td>\n",
       "      <td>https://eg.hatla2ee.com/en/car/chevrolet/optra...</td>\n",
       "    </tr>\n",
       "  </tbody>\n",
       "</table>\n",
       "</div>"
      ],
      "text/plain": [
       "                            Name          Price      Color     Mileage  \\\n",
       "0              Kia Sportage 2024  2,800,000 EGP  Dark grey      300 Km   \n",
       "2                 Fiat Tipo 2021  1,200,000 EGP  Petroleum  131,000 Km   \n",
       "3  Hyundai Tucson Turbo GDI 2021  2,050,000 EGP      Black  125,000 Km   \n",
       "4                    BMW X1 2018  2,050,000 EGP       Gray   84,000 Km   \n",
       "5           Chevrolet Optra 2021    700,000 EGP       Blue   75,000 Km   \n",
       "\n",
       "        Make             Model                 City Date Displayed  \\\n",
       "0        Kia          Sportage  Tagamo3 - New Cairo     2024-02-16   \n",
       "2       Fiat              Tipo       Kafr el-Dawwar     2024-02-16   \n",
       "3    Hyundai  Tucson Turbo GDI            Nasr city     2024-02-16   \n",
       "4        BMW                X1                Cairo     2024-02-16   \n",
       "5  Chevrolet             Optra           Obour City     2024-02-16   \n",
       "\n",
       "  Automatic Transmission Air Conditioner Power Steering Remote Control  \\\n",
       "0                    Yes             Yes            Yes            Yes   \n",
       "2                    Yes             Yes            Yes            Yes   \n",
       "3                    Yes             Yes            Yes            Yes   \n",
       "4                    Yes             Yes            Yes            Yes   \n",
       "5                    Yes             Yes            Yes            Yes   \n",
       "\n",
       "                                            Item URL  \n",
       "0  https://eg.hatla2ee.com/en/car/kia/sportage/62...  \n",
       "2   https://eg.hatla2ee.com/en/car/fiat/tipo/6286701  \n",
       "3  https://eg.hatla2ee.com/en/car/hyundai/Tucson-...  \n",
       "4      https://eg.hatla2ee.com/en/car/bmw/x1/6254123  \n",
       "5  https://eg.hatla2ee.com/en/car/chevrolet/optra...  "
      ]
     },
     "execution_count": 16,
     "metadata": {},
     "output_type": "execute_result"
    }
   ],
   "source": [
    "df.head()"
   ]
  },
  {
   "cell_type": "code",
   "execution_count": 17,
   "id": "400d1ad9",
   "metadata": {
    "execution": {
     "iopub.execute_input": "2025-05-05T14:28:44.234945Z",
     "iopub.status.busy": "2025-05-05T14:28:44.234583Z",
     "iopub.status.idle": "2025-05-05T14:28:44.406391Z",
     "shell.execute_reply": "2025-05-05T14:28:44.405261Z"
    },
    "papermill": {
     "duration": 0.18543,
     "end_time": "2025-05-05T14:28:44.408688",
     "exception": false,
     "start_time": "2025-05-05T14:28:44.223258",
     "status": "completed"
    },
    "tags": []
   },
   "outputs": [
    {
     "data": {
      "text/html": [
       "<div>\n",
       "<style scoped>\n",
       "    .dataframe tbody tr th:only-of-type {\n",
       "        vertical-align: middle;\n",
       "    }\n",
       "\n",
       "    .dataframe tbody tr th {\n",
       "        vertical-align: top;\n",
       "    }\n",
       "\n",
       "    .dataframe thead th {\n",
       "        text-align: right;\n",
       "    }\n",
       "</style>\n",
       "<table border=\"1\" class=\"dataframe\">\n",
       "  <thead>\n",
       "    <tr style=\"text-align: right;\">\n",
       "      <th></th>\n",
       "      <th>Name</th>\n",
       "      <th>Price</th>\n",
       "      <th>Color</th>\n",
       "      <th>Mileage</th>\n",
       "      <th>Make</th>\n",
       "      <th>Model</th>\n",
       "      <th>City</th>\n",
       "      <th>Date Displayed</th>\n",
       "      <th>Automatic Transmission</th>\n",
       "      <th>Air Conditioner</th>\n",
       "      <th>Power Steering</th>\n",
       "      <th>Remote Control</th>\n",
       "      <th>Item URL</th>\n",
       "      <th>year</th>\n",
       "    </tr>\n",
       "  </thead>\n",
       "  <tbody>\n",
       "    <tr>\n",
       "      <th>0</th>\n",
       "      <td>Kia Sportage 2024</td>\n",
       "      <td>2,800,000 EGP</td>\n",
       "      <td>Dark grey</td>\n",
       "      <td>300 Km</td>\n",
       "      <td>Kia</td>\n",
       "      <td>Sportage</td>\n",
       "      <td>Tagamo3 - New Cairo</td>\n",
       "      <td>2024-02-16</td>\n",
       "      <td>Yes</td>\n",
       "      <td>Yes</td>\n",
       "      <td>Yes</td>\n",
       "      <td>Yes</td>\n",
       "      <td>https://eg.hatla2ee.com/en/car/kia/sportage/62...</td>\n",
       "      <td>2024</td>\n",
       "    </tr>\n",
       "    <tr>\n",
       "      <th>2</th>\n",
       "      <td>Fiat Tipo 2021</td>\n",
       "      <td>1,200,000 EGP</td>\n",
       "      <td>Petroleum</td>\n",
       "      <td>131,000 Km</td>\n",
       "      <td>Fiat</td>\n",
       "      <td>Tipo</td>\n",
       "      <td>Kafr el-Dawwar</td>\n",
       "      <td>2024-02-16</td>\n",
       "      <td>Yes</td>\n",
       "      <td>Yes</td>\n",
       "      <td>Yes</td>\n",
       "      <td>Yes</td>\n",
       "      <td>https://eg.hatla2ee.com/en/car/fiat/tipo/6286701</td>\n",
       "      <td>2021</td>\n",
       "    </tr>\n",
       "    <tr>\n",
       "      <th>3</th>\n",
       "      <td>Hyundai Tucson Turbo GDI 2021</td>\n",
       "      <td>2,050,000 EGP</td>\n",
       "      <td>Black</td>\n",
       "      <td>125,000 Km</td>\n",
       "      <td>Hyundai</td>\n",
       "      <td>Tucson Turbo GDI</td>\n",
       "      <td>Nasr city</td>\n",
       "      <td>2024-02-16</td>\n",
       "      <td>Yes</td>\n",
       "      <td>Yes</td>\n",
       "      <td>Yes</td>\n",
       "      <td>Yes</td>\n",
       "      <td>https://eg.hatla2ee.com/en/car/hyundai/Tucson-...</td>\n",
       "      <td>2021</td>\n",
       "    </tr>\n",
       "    <tr>\n",
       "      <th>4</th>\n",
       "      <td>BMW X1 2018</td>\n",
       "      <td>2,050,000 EGP</td>\n",
       "      <td>Gray</td>\n",
       "      <td>84,000 Km</td>\n",
       "      <td>BMW</td>\n",
       "      <td>X1</td>\n",
       "      <td>Cairo</td>\n",
       "      <td>2024-02-16</td>\n",
       "      <td>Yes</td>\n",
       "      <td>Yes</td>\n",
       "      <td>Yes</td>\n",
       "      <td>Yes</td>\n",
       "      <td>https://eg.hatla2ee.com/en/car/bmw/x1/6254123</td>\n",
       "      <td>2018</td>\n",
       "    </tr>\n",
       "    <tr>\n",
       "      <th>5</th>\n",
       "      <td>Chevrolet Optra 2021</td>\n",
       "      <td>700,000 EGP</td>\n",
       "      <td>Blue</td>\n",
       "      <td>75,000 Km</td>\n",
       "      <td>Chevrolet</td>\n",
       "      <td>Optra</td>\n",
       "      <td>Obour City</td>\n",
       "      <td>2024-02-16</td>\n",
       "      <td>Yes</td>\n",
       "      <td>Yes</td>\n",
       "      <td>Yes</td>\n",
       "      <td>Yes</td>\n",
       "      <td>https://eg.hatla2ee.com/en/car/chevrolet/optra...</td>\n",
       "      <td>2021</td>\n",
       "    </tr>\n",
       "    <tr>\n",
       "      <th>...</th>\n",
       "      <td>...</td>\n",
       "      <td>...</td>\n",
       "      <td>...</td>\n",
       "      <td>...</td>\n",
       "      <td>...</td>\n",
       "      <td>...</td>\n",
       "      <td>...</td>\n",
       "      <td>...</td>\n",
       "      <td>...</td>\n",
       "      <td>...</td>\n",
       "      <td>...</td>\n",
       "      <td>...</td>\n",
       "      <td>...</td>\n",
       "      <td>...</td>\n",
       "    </tr>\n",
       "    <tr>\n",
       "      <th>33552</th>\n",
       "      <td>Kia Spectra 2002</td>\n",
       "      <td>330,000 EGP</td>\n",
       "      <td>Gray</td>\n",
       "      <td>253,000 Km</td>\n",
       "      <td>Kia</td>\n",
       "      <td>Spectra</td>\n",
       "      <td>Al Shorouk</td>\n",
       "      <td>2024-02-16</td>\n",
       "      <td>Yes</td>\n",
       "      <td>No</td>\n",
       "      <td>No</td>\n",
       "      <td>No</td>\n",
       "      <td>https://eg.hatla2ee.com/en/car/kia/spectra/628...</td>\n",
       "      <td>2002</td>\n",
       "    </tr>\n",
       "    <tr>\n",
       "      <th>33553</th>\n",
       "      <td>Toyota Corolla 2008</td>\n",
       "      <td>650,000 EGP</td>\n",
       "      <td>Black</td>\n",
       "      <td>199,000 Km</td>\n",
       "      <td>Toyota</td>\n",
       "      <td>Corolla</td>\n",
       "      <td>Alexandria</td>\n",
       "      <td>2024-02-16</td>\n",
       "      <td>No</td>\n",
       "      <td>No</td>\n",
       "      <td>No</td>\n",
       "      <td>No</td>\n",
       "      <td>https://eg.hatla2ee.com/en/car/toyota/corolla/...</td>\n",
       "      <td>2008</td>\n",
       "    </tr>\n",
       "    <tr>\n",
       "      <th>33554</th>\n",
       "      <td>Jac J3 2021</td>\n",
       "      <td>900,000 EGP</td>\n",
       "      <td>White</td>\n",
       "      <td>240,000 Km</td>\n",
       "      <td>Jac</td>\n",
       "      <td>J3</td>\n",
       "      <td>6 October</td>\n",
       "      <td>2024-02-16</td>\n",
       "      <td>Yes</td>\n",
       "      <td>No</td>\n",
       "      <td>No</td>\n",
       "      <td>No</td>\n",
       "      <td>https://eg.hatla2ee.com/en/car/jac/j3/6286737</td>\n",
       "      <td>2021</td>\n",
       "    </tr>\n",
       "    <tr>\n",
       "      <th>33556</th>\n",
       "      <td>MG 5 2022</td>\n",
       "      <td>1,170,000 EGP</td>\n",
       "      <td>Black</td>\n",
       "      <td>48,000 Km</td>\n",
       "      <td>MG</td>\n",
       "      <td>5</td>\n",
       "      <td>Kafr el-Dawwar</td>\n",
       "      <td>2024-02-16</td>\n",
       "      <td>Yes</td>\n",
       "      <td>Yes</td>\n",
       "      <td>Yes</td>\n",
       "      <td>Yes</td>\n",
       "      <td>https://eg.hatla2ee.com/en/car/moris-garage/mg...</td>\n",
       "      <td>2022</td>\n",
       "    </tr>\n",
       "    <tr>\n",
       "      <th>33557</th>\n",
       "      <td>Hyundai Verna 2010</td>\n",
       "      <td>285,000 EGP</td>\n",
       "      <td>White</td>\n",
       "      <td>175,000 Km</td>\n",
       "      <td>Hyundai</td>\n",
       "      <td>Verna</td>\n",
       "      <td>Alexandria</td>\n",
       "      <td>2024-02-16</td>\n",
       "      <td>No</td>\n",
       "      <td>No</td>\n",
       "      <td>Yes</td>\n",
       "      <td>Yes</td>\n",
       "      <td>https://eg.hatla2ee.com/en/car/hyundai/verna/6...</td>\n",
       "      <td>2010</td>\n",
       "    </tr>\n",
       "  </tbody>\n",
       "</table>\n",
       "<p>31095 rows × 14 columns</p>\n",
       "</div>"
      ],
      "text/plain": [
       "                                Name          Price      Color     Mileage  \\\n",
       "0                  Kia Sportage 2024  2,800,000 EGP  Dark grey      300 Km   \n",
       "2                     Fiat Tipo 2021  1,200,000 EGP  Petroleum  131,000 Km   \n",
       "3      Hyundai Tucson Turbo GDI 2021  2,050,000 EGP      Black  125,000 Km   \n",
       "4                        BMW X1 2018  2,050,000 EGP       Gray   84,000 Km   \n",
       "5               Chevrolet Optra 2021    700,000 EGP       Blue   75,000 Km   \n",
       "...                              ...            ...        ...         ...   \n",
       "33552               Kia Spectra 2002    330,000 EGP       Gray  253,000 Km   \n",
       "33553            Toyota Corolla 2008    650,000 EGP      Black  199,000 Km   \n",
       "33554                    Jac J3 2021    900,000 EGP      White  240,000 Km   \n",
       "33556                      MG 5 2022  1,170,000 EGP      Black   48,000 Km   \n",
       "33557             Hyundai Verna 2010    285,000 EGP      White  175,000 Km   \n",
       "\n",
       "            Make             Model                 City Date Displayed  \\\n",
       "0            Kia          Sportage  Tagamo3 - New Cairo     2024-02-16   \n",
       "2           Fiat              Tipo       Kafr el-Dawwar     2024-02-16   \n",
       "3        Hyundai  Tucson Turbo GDI            Nasr city     2024-02-16   \n",
       "4            BMW                X1                Cairo     2024-02-16   \n",
       "5      Chevrolet             Optra           Obour City     2024-02-16   \n",
       "...          ...               ...                  ...            ...   \n",
       "33552        Kia           Spectra           Al Shorouk     2024-02-16   \n",
       "33553     Toyota           Corolla           Alexandria     2024-02-16   \n",
       "33554        Jac                J3            6 October     2024-02-16   \n",
       "33556         MG                 5       Kafr el-Dawwar     2024-02-16   \n",
       "33557    Hyundai             Verna           Alexandria     2024-02-16   \n",
       "\n",
       "      Automatic Transmission Air Conditioner Power Steering Remote Control  \\\n",
       "0                        Yes             Yes            Yes            Yes   \n",
       "2                        Yes             Yes            Yes            Yes   \n",
       "3                        Yes             Yes            Yes            Yes   \n",
       "4                        Yes             Yes            Yes            Yes   \n",
       "5                        Yes             Yes            Yes            Yes   \n",
       "...                      ...             ...            ...            ...   \n",
       "33552                    Yes              No             No             No   \n",
       "33553                     No              No             No             No   \n",
       "33554                    Yes              No             No             No   \n",
       "33556                    Yes             Yes            Yes            Yes   \n",
       "33557                     No              No            Yes            Yes   \n",
       "\n",
       "                                                Item URL  year  \n",
       "0      https://eg.hatla2ee.com/en/car/kia/sportage/62...  2024  \n",
       "2       https://eg.hatla2ee.com/en/car/fiat/tipo/6286701  2021  \n",
       "3      https://eg.hatla2ee.com/en/car/hyundai/Tucson-...  2021  \n",
       "4          https://eg.hatla2ee.com/en/car/bmw/x1/6254123  2018  \n",
       "5      https://eg.hatla2ee.com/en/car/chevrolet/optra...  2021  \n",
       "...                                                  ...   ...  \n",
       "33552  https://eg.hatla2ee.com/en/car/kia/spectra/628...  2002  \n",
       "33553  https://eg.hatla2ee.com/en/car/toyota/corolla/...  2008  \n",
       "33554      https://eg.hatla2ee.com/en/car/jac/j3/6286737  2021  \n",
       "33556  https://eg.hatla2ee.com/en/car/moris-garage/mg...  2022  \n",
       "33557  https://eg.hatla2ee.com/en/car/hyundai/verna/6...  2010  \n",
       "\n",
       "[31095 rows x 14 columns]"
      ]
     },
     "execution_count": 17,
     "metadata": {},
     "output_type": "execute_result"
    }
   ],
   "source": [
    "df[\"year\"] = df[\"Name\"].str.extract(r'(\\d{4})')\n",
    "df[\"year\"] = df[\"year\"].astype(int)\n",
    "\n",
    "df"
   ]
  },
  {
   "cell_type": "code",
   "execution_count": 18,
   "id": "2ae1dfc3",
   "metadata": {
    "execution": {
     "iopub.execute_input": "2025-05-05T14:28:44.430944Z",
     "iopub.status.busy": "2025-05-05T14:28:44.430574Z",
     "iopub.status.idle": "2025-05-05T14:28:44.439218Z",
     "shell.execute_reply": "2025-05-05T14:28:44.438258Z"
    },
    "papermill": {
     "duration": 0.022178,
     "end_time": "2025-05-05T14:28:44.441255",
     "exception": false,
     "start_time": "2025-05-05T14:28:44.419077",
     "status": "completed"
    },
    "tags": []
   },
   "outputs": [],
   "source": [
    "df.drop(columns=['City', 'Date Displayed', 'Item URL','Name'], inplace=True)"
   ]
  },
  {
   "cell_type": "code",
   "execution_count": 19,
   "id": "a4b8b0ed",
   "metadata": {
    "execution": {
     "iopub.execute_input": "2025-05-05T14:28:44.463570Z",
     "iopub.status.busy": "2025-05-05T14:28:44.463142Z",
     "iopub.status.idle": "2025-05-05T14:28:44.518787Z",
     "shell.execute_reply": "2025-05-05T14:28:44.517684Z"
    },
    "papermill": {
     "duration": 0.069526,
     "end_time": "2025-05-05T14:28:44.521088",
     "exception": false,
     "start_time": "2025-05-05T14:28:44.451562",
     "status": "completed"
    },
    "tags": []
   },
   "outputs": [
    {
     "name": "stdout",
     "output_type": "stream",
     "text": [
      "       Price  Mileage\n",
      "0  2800000.0      300\n",
      "2  1200000.0   131000\n",
      "3  2050000.0   125000\n",
      "4  2050000.0    84000\n",
      "5   700000.0    75000\n"
     ]
    }
   ],
   "source": [
    "df[\"Price\"] = df[\"Price\"].str.replace('EGP', '').str.replace(',', '').astype(float)\n",
    "\n",
    "df[\"Mileage\"] = df[\"Mileage\"].str.replace('Km', '').str.replace(',', '').astype(int)\n",
    "\n",
    "print(df[[\"Price\", \"Mileage\"]].head())"
   ]
  },
  {
   "cell_type": "code",
   "execution_count": 20,
   "id": "97d21460",
   "metadata": {
    "execution": {
     "iopub.execute_input": "2025-05-05T14:28:44.543732Z",
     "iopub.status.busy": "2025-05-05T14:28:44.543341Z",
     "iopub.status.idle": "2025-05-05T14:28:44.549335Z",
     "shell.execute_reply": "2025-05-05T14:28:44.548301Z"
    },
    "papermill": {
     "duration": 0.019399,
     "end_time": "2025-05-05T14:28:44.551269",
     "exception": false,
     "start_time": "2025-05-05T14:28:44.531870",
     "status": "completed"
    },
    "tags": []
   },
   "outputs": [],
   "source": [
    "df.rename(columns={'Mileage': 'KM'}, inplace=True)\n",
    "df.rename(columns={'Make': 'Maker'}, inplace=True)"
   ]
  },
  {
   "cell_type": "code",
   "execution_count": 21,
   "id": "10478a9d",
   "metadata": {
    "execution": {
     "iopub.execute_input": "2025-05-05T14:28:44.573318Z",
     "iopub.status.busy": "2025-05-05T14:28:44.572927Z",
     "iopub.status.idle": "2025-05-05T14:28:44.621098Z",
     "shell.execute_reply": "2025-05-05T14:28:44.619796Z"
    },
    "papermill": {
     "duration": 0.061996,
     "end_time": "2025-05-05T14:28:44.623553",
     "exception": false,
     "start_time": "2025-05-05T14:28:44.561557",
     "status": "completed"
    },
    "tags": []
   },
   "outputs": [],
   "source": [
    "categorical_columns = ['Maker', 'Model','Color','Automatic Transmission', 'Air Conditioner', 'Power Steering', 'Remote Control']  \n",
    "\n",
    "label_encoders = {}\n",
    "for column in categorical_columns:\n",
    "    le = LabelEncoder()\n",
    "    df[column] = le.fit_transform(df[column])\n",
    "    label_encoders[column] = le  # Store the encoder"
   ]
  },
  {
   "cell_type": "code",
   "execution_count": 22,
   "id": "0b99327e",
   "metadata": {
    "execution": {
     "iopub.execute_input": "2025-05-05T14:28:44.645697Z",
     "iopub.status.busy": "2025-05-05T14:28:44.645326Z",
     "iopub.status.idle": "2025-05-05T14:28:44.660137Z",
     "shell.execute_reply": "2025-05-05T14:28:44.659162Z"
    },
    "papermill": {
     "duration": 0.028612,
     "end_time": "2025-05-05T14:28:44.662466",
     "exception": false,
     "start_time": "2025-05-05T14:28:44.633854",
     "status": "completed"
    },
    "tags": []
   },
   "outputs": [
    {
     "data": {
      "text/html": [
       "<div>\n",
       "<style scoped>\n",
       "    .dataframe tbody tr th:only-of-type {\n",
       "        vertical-align: middle;\n",
       "    }\n",
       "\n",
       "    .dataframe tbody tr th {\n",
       "        vertical-align: top;\n",
       "    }\n",
       "\n",
       "    .dataframe thead th {\n",
       "        text-align: right;\n",
       "    }\n",
       "</style>\n",
       "<table border=\"1\" class=\"dataframe\">\n",
       "  <thead>\n",
       "    <tr style=\"text-align: right;\">\n",
       "      <th></th>\n",
       "      <th>Price</th>\n",
       "      <th>Color</th>\n",
       "      <th>KM</th>\n",
       "      <th>Maker</th>\n",
       "      <th>Model</th>\n",
       "      <th>Automatic Transmission</th>\n",
       "      <th>Air Conditioner</th>\n",
       "      <th>Power Steering</th>\n",
       "      <th>Remote Control</th>\n",
       "      <th>year</th>\n",
       "    </tr>\n",
       "  </thead>\n",
       "  <tbody>\n",
       "    <tr>\n",
       "      <th>0</th>\n",
       "      <td>2800000.0</td>\n",
       "      <td>9</td>\n",
       "      <td>300</td>\n",
       "      <td>59</td>\n",
       "      <td>708</td>\n",
       "      <td>1</td>\n",
       "      <td>1</td>\n",
       "      <td>1</td>\n",
       "      <td>1</td>\n",
       "      <td>2024</td>\n",
       "    </tr>\n",
       "    <tr>\n",
       "      <th>2</th>\n",
       "      <td>1200000.0</td>\n",
       "      <td>18</td>\n",
       "      <td>131000</td>\n",
       "      <td>32</td>\n",
       "      <td>756</td>\n",
       "      <td>1</td>\n",
       "      <td>1</td>\n",
       "      <td>1</td>\n",
       "      <td>1</td>\n",
       "      <td>2021</td>\n",
       "    </tr>\n",
       "    <tr>\n",
       "      <th>3</th>\n",
       "      <td>2050000.0</td>\n",
       "      <td>1</td>\n",
       "      <td>125000</td>\n",
       "      <td>47</td>\n",
       "      <td>771</td>\n",
       "      <td>1</td>\n",
       "      <td>1</td>\n",
       "      <td>1</td>\n",
       "      <td>1</td>\n",
       "      <td>2021</td>\n",
       "    </tr>\n",
       "    <tr>\n",
       "      <th>4</th>\n",
       "      <td>2050000.0</td>\n",
       "      <td>13</td>\n",
       "      <td>84000</td>\n",
       "      <td>5</td>\n",
       "      <td>806</td>\n",
       "      <td>1</td>\n",
       "      <td>1</td>\n",
       "      <td>1</td>\n",
       "      <td>1</td>\n",
       "      <td>2018</td>\n",
       "    </tr>\n",
       "    <tr>\n",
       "      <th>5</th>\n",
       "      <td>700000.0</td>\n",
       "      <td>2</td>\n",
       "      <td>75000</td>\n",
       "      <td>18</td>\n",
       "      <td>591</td>\n",
       "      <td>1</td>\n",
       "      <td>1</td>\n",
       "      <td>1</td>\n",
       "      <td>1</td>\n",
       "      <td>2021</td>\n",
       "    </tr>\n",
       "    <tr>\n",
       "      <th>...</th>\n",
       "      <td>...</td>\n",
       "      <td>...</td>\n",
       "      <td>...</td>\n",
       "      <td>...</td>\n",
       "      <td>...</td>\n",
       "      <td>...</td>\n",
       "      <td>...</td>\n",
       "      <td>...</td>\n",
       "      <td>...</td>\n",
       "      <td>...</td>\n",
       "    </tr>\n",
       "    <tr>\n",
       "      <th>33552</th>\n",
       "      <td>330000.0</td>\n",
       "      <td>13</td>\n",
       "      <td>253000</td>\n",
       "      <td>59</td>\n",
       "      <td>706</td>\n",
       "      <td>1</td>\n",
       "      <td>0</td>\n",
       "      <td>0</td>\n",
       "      <td>0</td>\n",
       "      <td>2002</td>\n",
       "    </tr>\n",
       "    <tr>\n",
       "      <th>33553</th>\n",
       "      <td>650000.0</td>\n",
       "      <td>1</td>\n",
       "      <td>199000</td>\n",
       "      <td>94</td>\n",
       "      <td>261</td>\n",
       "      <td>0</td>\n",
       "      <td>0</td>\n",
       "      <td>0</td>\n",
       "      <td>0</td>\n",
       "      <td>2008</td>\n",
       "    </tr>\n",
       "    <tr>\n",
       "      <th>33554</th>\n",
       "      <td>900000.0</td>\n",
       "      <td>22</td>\n",
       "      <td>240000</td>\n",
       "      <td>50</td>\n",
       "      <td>473</td>\n",
       "      <td>1</td>\n",
       "      <td>0</td>\n",
       "      <td>0</td>\n",
       "      <td>0</td>\n",
       "      <td>2021</td>\n",
       "    </tr>\n",
       "    <tr>\n",
       "      <th>33556</th>\n",
       "      <td>1170000.0</td>\n",
       "      <td>1</td>\n",
       "      <td>48000</td>\n",
       "      <td>67</td>\n",
       "      <td>76</td>\n",
       "      <td>1</td>\n",
       "      <td>1</td>\n",
       "      <td>1</td>\n",
       "      <td>1</td>\n",
       "      <td>2022</td>\n",
       "    </tr>\n",
       "    <tr>\n",
       "      <th>33557</th>\n",
       "      <td>285000.0</td>\n",
       "      <td>22</td>\n",
       "      <td>175000</td>\n",
       "      <td>47</td>\n",
       "      <td>788</td>\n",
       "      <td>0</td>\n",
       "      <td>0</td>\n",
       "      <td>1</td>\n",
       "      <td>1</td>\n",
       "      <td>2010</td>\n",
       "    </tr>\n",
       "  </tbody>\n",
       "</table>\n",
       "<p>31095 rows × 10 columns</p>\n",
       "</div>"
      ],
      "text/plain": [
       "           Price  Color      KM  Maker  Model  Automatic Transmission  \\\n",
       "0      2800000.0      9     300     59    708                       1   \n",
       "2      1200000.0     18  131000     32    756                       1   \n",
       "3      2050000.0      1  125000     47    771                       1   \n",
       "4      2050000.0     13   84000      5    806                       1   \n",
       "5       700000.0      2   75000     18    591                       1   \n",
       "...          ...    ...     ...    ...    ...                     ...   \n",
       "33552   330000.0     13  253000     59    706                       1   \n",
       "33553   650000.0      1  199000     94    261                       0   \n",
       "33554   900000.0     22  240000     50    473                       1   \n",
       "33556  1170000.0      1   48000     67     76                       1   \n",
       "33557   285000.0     22  175000     47    788                       0   \n",
       "\n",
       "       Air Conditioner  Power Steering  Remote Control  year  \n",
       "0                    1               1               1  2024  \n",
       "2                    1               1               1  2021  \n",
       "3                    1               1               1  2021  \n",
       "4                    1               1               1  2018  \n",
       "5                    1               1               1  2021  \n",
       "...                ...             ...             ...   ...  \n",
       "33552                0               0               0  2002  \n",
       "33553                0               0               0  2008  \n",
       "33554                0               0               0  2021  \n",
       "33556                1               1               1  2022  \n",
       "33557                0               1               1  2010  \n",
       "\n",
       "[31095 rows x 10 columns]"
      ]
     },
     "execution_count": 22,
     "metadata": {},
     "output_type": "execute_result"
    }
   ],
   "source": [
    "df"
   ]
  },
  {
   "cell_type": "markdown",
   "id": "622bbf72",
   "metadata": {
    "papermill": {
     "duration": 0.010293,
     "end_time": "2025-05-05T14:28:44.683808",
     "exception": false,
     "start_time": "2025-05-05T14:28:44.673515",
     "status": "completed"
    },
    "tags": []
   },
   "source": [
    "# Regression Model"
   ]
  },
  {
   "cell_type": "code",
   "execution_count": 23,
   "id": "2e3fcacf",
   "metadata": {
    "execution": {
     "iopub.execute_input": "2025-05-05T14:28:44.706374Z",
     "iopub.status.busy": "2025-05-05T14:28:44.705969Z",
     "iopub.status.idle": "2025-05-05T14:28:44.719244Z",
     "shell.execute_reply": "2025-05-05T14:28:44.718265Z"
    },
    "papermill": {
     "duration": 0.026977,
     "end_time": "2025-05-05T14:28:44.721339",
     "exception": false,
     "start_time": "2025-05-05T14:28:44.694362",
     "status": "completed"
    },
    "tags": []
   },
   "outputs": [
    {
     "data": {
      "text/plain": [
       "0        2800000.0\n",
       "2        1200000.0\n",
       "3        2050000.0\n",
       "4        2050000.0\n",
       "5         700000.0\n",
       "           ...    \n",
       "33552     330000.0\n",
       "33553     650000.0\n",
       "33554     900000.0\n",
       "33556    1170000.0\n",
       "33557     285000.0\n",
       "Name: Price, Length: 31095, dtype: float64"
      ]
     },
     "execution_count": 23,
     "metadata": {},
     "output_type": "execute_result"
    }
   ],
   "source": [
    "X = df.drop(columns='Price')\n",
    "y = df['Price']\n",
    "y"
   ]
  },
  {
   "cell_type": "code",
   "execution_count": 24,
   "id": "63a6f64a",
   "metadata": {
    "execution": {
     "iopub.execute_input": "2025-05-05T14:28:44.743605Z",
     "iopub.status.busy": "2025-05-05T14:28:44.743243Z",
     "iopub.status.idle": "2025-05-05T14:28:44.756917Z",
     "shell.execute_reply": "2025-05-05T14:28:44.756086Z"
    },
    "papermill": {
     "duration": 0.027151,
     "end_time": "2025-05-05T14:28:44.759018",
     "exception": false,
     "start_time": "2025-05-05T14:28:44.731867",
     "status": "completed"
    },
    "tags": []
   },
   "outputs": [],
   "source": [
    "X_train, X_test, y_train, y_test = train_test_split(X, y, test_size=0.30, random_state=42)"
   ]
  },
  {
   "cell_type": "code",
   "execution_count": null,
   "id": "21bf3e56",
   "metadata": {
    "papermill": {
     "duration": 0.010138,
     "end_time": "2025-05-05T14:28:44.779983",
     "exception": false,
     "start_time": "2025-05-05T14:28:44.769845",
     "status": "completed"
    },
    "tags": []
   },
   "outputs": [],
   "source": []
  },
  {
   "cell_type": "code",
   "execution_count": 25,
   "id": "b8f7721b",
   "metadata": {
    "execution": {
     "iopub.execute_input": "2025-05-05T14:28:44.802540Z",
     "iopub.status.busy": "2025-05-05T14:28:44.802141Z",
     "iopub.status.idle": "2025-05-05T14:28:44.806961Z",
     "shell.execute_reply": "2025-05-05T14:28:44.805882Z"
    },
    "papermill": {
     "duration": 0.018329,
     "end_time": "2025-05-05T14:28:44.809003",
     "exception": false,
     "start_time": "2025-05-05T14:28:44.790674",
     "status": "completed"
    },
    "tags": []
   },
   "outputs": [],
   "source": [
    "model = XGBRegressor(\n",
    "    n_estimators=300,\n",
    "    learning_rate=0.1,\n",
    "    max_depth=6,\n",
    "    random_state=42\n",
    ")\n"
   ]
  },
  {
   "cell_type": "code",
   "execution_count": 26,
   "id": "0e3f4304",
   "metadata": {
    "execution": {
     "iopub.execute_input": "2025-05-05T14:28:44.831557Z",
     "iopub.status.busy": "2025-05-05T14:28:44.831171Z",
     "iopub.status.idle": "2025-05-05T14:28:45.299183Z",
     "shell.execute_reply": "2025-05-05T14:28:45.296522Z"
    },
    "papermill": {
     "duration": 0.481905,
     "end_time": "2025-05-05T14:28:45.301486",
     "exception": false,
     "start_time": "2025-05-05T14:28:44.819581",
     "status": "completed"
    },
    "tags": []
   },
   "outputs": [
    {
     "data": {
      "text/html": [
       "<style>#sk-container-id-1 {color: black;background-color: white;}#sk-container-id-1 pre{padding: 0;}#sk-container-id-1 div.sk-toggleable {background-color: white;}#sk-container-id-1 label.sk-toggleable__label {cursor: pointer;display: block;width: 100%;margin-bottom: 0;padding: 0.3em;box-sizing: border-box;text-align: center;}#sk-container-id-1 label.sk-toggleable__label-arrow:before {content: \"▸\";float: left;margin-right: 0.25em;color: #696969;}#sk-container-id-1 label.sk-toggleable__label-arrow:hover:before {color: black;}#sk-container-id-1 div.sk-estimator:hover label.sk-toggleable__label-arrow:before {color: black;}#sk-container-id-1 div.sk-toggleable__content {max-height: 0;max-width: 0;overflow: hidden;text-align: left;background-color: #f0f8ff;}#sk-container-id-1 div.sk-toggleable__content pre {margin: 0.2em;color: black;border-radius: 0.25em;background-color: #f0f8ff;}#sk-container-id-1 input.sk-toggleable__control:checked~div.sk-toggleable__content {max-height: 200px;max-width: 100%;overflow: auto;}#sk-container-id-1 input.sk-toggleable__control:checked~label.sk-toggleable__label-arrow:before {content: \"▾\";}#sk-container-id-1 div.sk-estimator input.sk-toggleable__control:checked~label.sk-toggleable__label {background-color: #d4ebff;}#sk-container-id-1 div.sk-label input.sk-toggleable__control:checked~label.sk-toggleable__label {background-color: #d4ebff;}#sk-container-id-1 input.sk-hidden--visually {border: 0;clip: rect(1px 1px 1px 1px);clip: rect(1px, 1px, 1px, 1px);height: 1px;margin: -1px;overflow: hidden;padding: 0;position: absolute;width: 1px;}#sk-container-id-1 div.sk-estimator {font-family: monospace;background-color: #f0f8ff;border: 1px dotted black;border-radius: 0.25em;box-sizing: border-box;margin-bottom: 0.5em;}#sk-container-id-1 div.sk-estimator:hover {background-color: #d4ebff;}#sk-container-id-1 div.sk-parallel-item::after {content: \"\";width: 100%;border-bottom: 1px solid gray;flex-grow: 1;}#sk-container-id-1 div.sk-label:hover label.sk-toggleable__label {background-color: #d4ebff;}#sk-container-id-1 div.sk-serial::before {content: \"\";position: absolute;border-left: 1px solid gray;box-sizing: border-box;top: 0;bottom: 0;left: 50%;z-index: 0;}#sk-container-id-1 div.sk-serial {display: flex;flex-direction: column;align-items: center;background-color: white;padding-right: 0.2em;padding-left: 0.2em;position: relative;}#sk-container-id-1 div.sk-item {position: relative;z-index: 1;}#sk-container-id-1 div.sk-parallel {display: flex;align-items: stretch;justify-content: center;background-color: white;position: relative;}#sk-container-id-1 div.sk-item::before, #sk-container-id-1 div.sk-parallel-item::before {content: \"\";position: absolute;border-left: 1px solid gray;box-sizing: border-box;top: 0;bottom: 0;left: 50%;z-index: -1;}#sk-container-id-1 div.sk-parallel-item {display: flex;flex-direction: column;z-index: 1;position: relative;background-color: white;}#sk-container-id-1 div.sk-parallel-item:first-child::after {align-self: flex-end;width: 50%;}#sk-container-id-1 div.sk-parallel-item:last-child::after {align-self: flex-start;width: 50%;}#sk-container-id-1 div.sk-parallel-item:only-child::after {width: 0;}#sk-container-id-1 div.sk-dashed-wrapped {border: 1px dashed gray;margin: 0 0.4em 0.5em 0.4em;box-sizing: border-box;padding-bottom: 0.4em;background-color: white;}#sk-container-id-1 div.sk-label label {font-family: monospace;font-weight: bold;display: inline-block;line-height: 1.2em;}#sk-container-id-1 div.sk-label-container {text-align: center;}#sk-container-id-1 div.sk-container {/* jupyter's `normalize.less` sets `[hidden] { display: none; }` but bootstrap.min.css set `[hidden] { display: none !important; }` so we also need the `!important` here to be able to override the default hidden behavior on the sphinx rendered scikit-learn.org. See: https://github.com/scikit-learn/scikit-learn/issues/21755 */display: inline-block !important;position: relative;}#sk-container-id-1 div.sk-text-repr-fallback {display: none;}</style><div id=\"sk-container-id-1\" class=\"sk-top-container\"><div class=\"sk-text-repr-fallback\"><pre>XGBRegressor(base_score=None, booster=None, callbacks=None,\n",
       "             colsample_bylevel=None, colsample_bynode=None,\n",
       "             colsample_bytree=None, device=None, early_stopping_rounds=None,\n",
       "             enable_categorical=False, eval_metric=None, feature_types=None,\n",
       "             gamma=None, grow_policy=None, importance_type=None,\n",
       "             interaction_constraints=None, learning_rate=0.1, max_bin=None,\n",
       "             max_cat_threshold=None, max_cat_to_onehot=None,\n",
       "             max_delta_step=None, max_depth=6, max_leaves=None,\n",
       "             min_child_weight=None, missing=nan, monotone_constraints=None,\n",
       "             multi_strategy=None, n_estimators=300, n_jobs=None,\n",
       "             num_parallel_tree=None, random_state=42, ...)</pre><b>In a Jupyter environment, please rerun this cell to show the HTML representation or trust the notebook. <br />On GitHub, the HTML representation is unable to render, please try loading this page with nbviewer.org.</b></div><div class=\"sk-container\" hidden><div class=\"sk-item\"><div class=\"sk-estimator sk-toggleable\"><input class=\"sk-toggleable__control sk-hidden--visually\" id=\"sk-estimator-id-1\" type=\"checkbox\" checked><label for=\"sk-estimator-id-1\" class=\"sk-toggleable__label sk-toggleable__label-arrow\">XGBRegressor</label><div class=\"sk-toggleable__content\"><pre>XGBRegressor(base_score=None, booster=None, callbacks=None,\n",
       "             colsample_bylevel=None, colsample_bynode=None,\n",
       "             colsample_bytree=None, device=None, early_stopping_rounds=None,\n",
       "             enable_categorical=False, eval_metric=None, feature_types=None,\n",
       "             gamma=None, grow_policy=None, importance_type=None,\n",
       "             interaction_constraints=None, learning_rate=0.1, max_bin=None,\n",
       "             max_cat_threshold=None, max_cat_to_onehot=None,\n",
       "             max_delta_step=None, max_depth=6, max_leaves=None,\n",
       "             min_child_weight=None, missing=nan, monotone_constraints=None,\n",
       "             multi_strategy=None, n_estimators=300, n_jobs=None,\n",
       "             num_parallel_tree=None, random_state=42, ...)</pre></div></div></div></div></div>"
      ],
      "text/plain": [
       "XGBRegressor(base_score=None, booster=None, callbacks=None,\n",
       "             colsample_bylevel=None, colsample_bynode=None,\n",
       "             colsample_bytree=None, device=None, early_stopping_rounds=None,\n",
       "             enable_categorical=False, eval_metric=None, feature_types=None,\n",
       "             gamma=None, grow_policy=None, importance_type=None,\n",
       "             interaction_constraints=None, learning_rate=0.1, max_bin=None,\n",
       "             max_cat_threshold=None, max_cat_to_onehot=None,\n",
       "             max_delta_step=None, max_depth=6, max_leaves=None,\n",
       "             min_child_weight=None, missing=nan, monotone_constraints=None,\n",
       "             multi_strategy=None, n_estimators=300, n_jobs=None,\n",
       "             num_parallel_tree=None, random_state=42, ...)"
      ]
     },
     "execution_count": 26,
     "metadata": {},
     "output_type": "execute_result"
    }
   ],
   "source": [
    "model.fit(X_train, y_train)"
   ]
  },
  {
   "cell_type": "code",
   "execution_count": 27,
   "id": "adf55ec4",
   "metadata": {
    "execution": {
     "iopub.execute_input": "2025-05-05T14:28:45.325804Z",
     "iopub.status.busy": "2025-05-05T14:28:45.325460Z",
     "iopub.status.idle": "2025-05-05T14:28:45.361447Z",
     "shell.execute_reply": "2025-05-05T14:28:45.360643Z"
    },
    "papermill": {
     "duration": 0.051092,
     "end_time": "2025-05-05T14:28:45.364078",
     "exception": false,
     "start_time": "2025-05-05T14:28:45.312986",
     "status": "completed"
    },
    "tags": []
   },
   "outputs": [],
   "source": [
    "y_pred = model.predict(X_test)"
   ]
  },
  {
   "cell_type": "code",
   "execution_count": 28,
   "id": "93df19da",
   "metadata": {
    "execution": {
     "iopub.execute_input": "2025-05-05T14:28:45.391000Z",
     "iopub.status.busy": "2025-05-05T14:28:45.390628Z",
     "iopub.status.idle": "2025-05-05T14:28:45.397859Z",
     "shell.execute_reply": "2025-05-05T14:28:45.396885Z"
    },
    "papermill": {
     "duration": 0.021617,
     "end_time": "2025-05-05T14:28:45.399728",
     "exception": false,
     "start_time": "2025-05-05T14:28:45.378111",
     "status": "completed"
    },
    "tags": []
   },
   "outputs": [],
   "source": [
    "mae = mean_absolute_error(y_test, y_pred)\n",
    "r2 = r2_score(y_test, y_pred)"
   ]
  },
  {
   "cell_type": "code",
   "execution_count": 29,
   "id": "fd57db38",
   "metadata": {
    "execution": {
     "iopub.execute_input": "2025-05-05T14:28:45.423069Z",
     "iopub.status.busy": "2025-05-05T14:28:45.422142Z",
     "iopub.status.idle": "2025-05-05T14:28:45.427378Z",
     "shell.execute_reply": "2025-05-05T14:28:45.426375Z"
    },
    "papermill": {
     "duration": 0.019148,
     "end_time": "2025-05-05T14:28:45.429421",
     "exception": false,
     "start_time": "2025-05-05T14:28:45.410273",
     "status": "completed"
    },
    "tags": []
   },
   "outputs": [
    {
     "name": "stdout",
     "output_type": "stream",
     "text": [
      "Mean Absolute Error (MAE): 119398.26910777893\n",
      "R-squared: 0.8875102881781529\n"
     ]
    }
   ],
   "source": [
    "print(f'Mean Absolute Error (MAE): {mae}')\n",
    "print(f'R-squared: {r2}')"
   ]
  },
  {
   "cell_type": "code",
   "execution_count": 30,
   "id": "1c659741",
   "metadata": {
    "execution": {
     "iopub.execute_input": "2025-05-05T14:28:45.454062Z",
     "iopub.status.busy": "2025-05-05T14:28:45.453145Z",
     "iopub.status.idle": "2025-05-05T14:28:45.465556Z",
     "shell.execute_reply": "2025-05-05T14:28:45.464684Z"
    },
    "papermill": {
     "duration": 0.026799,
     "end_time": "2025-05-05T14:28:45.467751",
     "exception": false,
     "start_time": "2025-05-05T14:28:45.440952",
     "status": "completed"
    },
    "tags": []
   },
   "outputs": [],
   "source": [
    "scaler = StandardScaler()\n",
    "X_train = scaler.fit_transform(X_train)\n",
    "X_test = scaler.transform(X_test)"
   ]
  },
  {
   "cell_type": "code",
   "execution_count": 31,
   "id": "b1e68497",
   "metadata": {
    "execution": {
     "iopub.execute_input": "2025-05-05T14:28:45.491563Z",
     "iopub.status.busy": "2025-05-05T14:28:45.491170Z",
     "iopub.status.idle": "2025-05-05T14:28:45.510821Z",
     "shell.execute_reply": "2025-05-05T14:28:45.508450Z"
    },
    "papermill": {
     "duration": 0.034251,
     "end_time": "2025-05-05T14:28:45.513260",
     "exception": false,
     "start_time": "2025-05-05T14:28:45.479009",
     "status": "completed"
    },
    "tags": []
   },
   "outputs": [
    {
     "name": "stdout",
     "output_type": "stream",
     "text": [
      "✅ Model, scaler, and label encoder saved successfully!\n"
     ]
    }
   ],
   "source": [
    "from joblib import dump\n",
    "\n",
    "dump(model, 'model.pkl')                # Save trained model\n",
    "dump(scaler, 'scaler.pkl')              # Save the scaler\n",
    "dump(label_encoders, 'label_encoder.pkl')  # Save label encoder for decoding later\n",
    "print(\"✅ Model, scaler, and label encoder saved successfully!\")"
   ]
  },
  {
   "cell_type": "code",
   "execution_count": 32,
   "id": "2dcdcf9f",
   "metadata": {
    "execution": {
     "iopub.execute_input": "2025-05-05T14:28:45.537656Z",
     "iopub.status.busy": "2025-05-05T14:28:45.537319Z",
     "iopub.status.idle": "2025-05-05T14:28:45.544267Z",
     "shell.execute_reply": "2025-05-05T14:28:45.543209Z"
    },
    "papermill": {
     "duration": 0.021281,
     "end_time": "2025-05-05T14:28:45.546288",
     "exception": false,
     "start_time": "2025-05-05T14:28:45.525007",
     "status": "completed"
    },
    "tags": []
   },
   "outputs": [
    {
     "data": {
      "text/plain": [
       "'label_encoders = load(\\'label_encoder.pkl\\')\\n\\nprint(\"📋 All Label Encoders:\")\\nfor col_name, encoder in label_encoders.items():\\n    print(f\"\\n➡️ Column: {col_name}\")\\n    for i, label in enumerate(encoder.classes_):\\n        print(f\"{i} → {label}\")'"
      ]
     },
     "execution_count": 32,
     "metadata": {},
     "output_type": "execute_result"
    }
   ],
   "source": [
    "\"\"\"label_encoders = load('label_encoder.pkl')\n",
    "\n",
    "print(\"📋 All Label Encoders:\")\n",
    "for col_name, encoder in label_encoders.items():\n",
    "    print(f\"\\n➡️ Column: {col_name}\")\n",
    "    for i, label in enumerate(encoder.classes_):\n",
    "        print(f\"{i} → {label}\")\"\"\""
   ]
  },
  {
   "cell_type": "code",
   "execution_count": null,
   "id": "de31d370",
   "metadata": {
    "papermill": {
     "duration": 0.01075,
     "end_time": "2025-05-05T14:28:45.568259",
     "exception": false,
     "start_time": "2025-05-05T14:28:45.557509",
     "status": "completed"
    },
    "tags": []
   },
   "outputs": [],
   "source": []
  },
  {
   "cell_type": "code",
   "execution_count": null,
   "id": "dde05dde",
   "metadata": {
    "papermill": {
     "duration": 0.010499,
     "end_time": "2025-05-05T14:28:45.589828",
     "exception": false,
     "start_time": "2025-05-05T14:28:45.579329",
     "status": "completed"
    },
    "tags": []
   },
   "outputs": [],
   "source": []
  }
 ],
 "metadata": {
  "kaggle": {
   "accelerator": "none",
   "dataSources": [
    {
     "datasetId": 4449628,
     "sourceId": 7635796,
     "sourceType": "datasetVersion"
    }
   ],
   "dockerImageVersionId": 30775,
   "isGpuEnabled": false,
   "isInternetEnabled": true,
   "language": "python",
   "sourceType": "notebook"
  },
  "kernelspec": {
   "display_name": "Python 3",
   "language": "python",
   "name": "python3"
  },
  "language_info": {
   "codemirror_mode": {
    "name": "ipython",
    "version": 3
   },
   "file_extension": ".py",
   "mimetype": "text/x-python",
   "name": "python",
   "nbconvert_exporter": "python",
   "pygments_lexer": "ipython3",
   "version": "3.10.14"
  },
  "papermill": {
   "default_parameters": {},
   "duration": 9.914327,
   "end_time": "2025-05-05T14:28:46.221999",
   "environment_variables": {},
   "exception": null,
   "input_path": "__notebook__.ipynb",
   "output_path": "__notebook__.ipynb",
   "parameters": {},
   "start_time": "2025-05-05T14:28:36.307672",
   "version": "2.6.0"
  }
 },
 "nbformat": 4,
 "nbformat_minor": 5
}
